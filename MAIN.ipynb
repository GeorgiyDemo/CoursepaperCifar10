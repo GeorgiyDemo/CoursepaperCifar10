{
 "cells": [
  {
   "cell_type": "markdown",
   "id": "3cc06be4",
   "metadata": {},
   "source": [
    "Импортируем библиотеки"
   ]
  },
  {
   "cell_type": "code",
   "execution_count": 1,
   "id": "4efbc9bd",
   "metadata": {},
   "outputs": [],
   "source": [
    "import tensorflow as tf\n",
    "from tensorflow.keras import datasets, layers, models\n",
    "from sklearn.metrics import confusion_matrix , classification_report\n",
    "import matplotlib.pyplot as plt\n",
    "import numpy as np\n",
    "import cv2\n",
    "\n",
    "import time\n",
    "from sklearn import metrics"
   ]
  },
  {
   "cell_type": "markdown",
   "id": "dd172bf7",
   "metadata": {},
   "source": [
    "## Препроцессинг данных"
   ]
  },
  {
   "cell_type": "code",
   "execution_count": 2,
   "id": "c7745aab",
   "metadata": {},
   "outputs": [],
   "source": [
    "#Получаем матрицы с датасета cifar10\n",
    "(X_trainRGB, y_train), (X_testRGB, y_test) = datasets.cifar10.load_data()"
   ]
  },
  {
   "cell_type": "code",
   "execution_count": 3,
   "id": "1f219a1d",
   "metadata": {},
   "outputs": [
    {
     "data": {
      "text/plain": [
       "array([[[[ 59,  62,  63],\n",
       "         [ 43,  46,  45],\n",
       "         [ 50,  48,  43],\n",
       "         ...,\n",
       "         [158, 132, 108],\n",
       "         [152, 125, 102],\n",
       "         [148, 124, 103]],\n",
       "\n",
       "        [[ 16,  20,  20],\n",
       "         [  0,   0,   0],\n",
       "         [ 18,   8,   0],\n",
       "         ...,\n",
       "         [123,  88,  55],\n",
       "         [119,  83,  50],\n",
       "         [122,  87,  57]],\n",
       "\n",
       "        [[ 25,  24,  21],\n",
       "         [ 16,   7,   0],\n",
       "         [ 49,  27,   8],\n",
       "         ...,\n",
       "         [118,  84,  50],\n",
       "         [120,  84,  50],\n",
       "         [109,  73,  42]],\n",
       "\n",
       "        ...,\n",
       "\n",
       "        [[208, 170,  96],\n",
       "         [201, 153,  34],\n",
       "         [198, 161,  26],\n",
       "         ...,\n",
       "         [160, 133,  70],\n",
       "         [ 56,  31,   7],\n",
       "         [ 53,  34,  20]],\n",
       "\n",
       "        [[180, 139,  96],\n",
       "         [173, 123,  42],\n",
       "         [186, 144,  30],\n",
       "         ...,\n",
       "         [184, 148,  94],\n",
       "         [ 97,  62,  34],\n",
       "         [ 83,  53,  34]],\n",
       "\n",
       "        [[177, 144, 116],\n",
       "         [168, 129,  94],\n",
       "         [179, 142,  87],\n",
       "         ...,\n",
       "         [216, 184, 140],\n",
       "         [151, 118,  84],\n",
       "         [123,  92,  72]]],\n",
       "\n",
       "\n",
       "       [[[154, 177, 187],\n",
       "         [126, 137, 136],\n",
       "         [105, 104,  95],\n",
       "         ...,\n",
       "         [ 91,  95,  71],\n",
       "         [ 87,  90,  71],\n",
       "         [ 79,  81,  70]],\n",
       "\n",
       "        [[140, 160, 169],\n",
       "         [145, 153, 154],\n",
       "         [125, 125, 118],\n",
       "         ...,\n",
       "         [ 96,  99,  78],\n",
       "         [ 77,  80,  62],\n",
       "         [ 71,  73,  61]],\n",
       "\n",
       "        [[140, 155, 164],\n",
       "         [139, 146, 149],\n",
       "         [115, 115, 112],\n",
       "         ...,\n",
       "         [ 79,  82,  64],\n",
       "         [ 68,  70,  55],\n",
       "         [ 67,  69,  55]],\n",
       "\n",
       "        ...,\n",
       "\n",
       "        [[175, 167, 166],\n",
       "         [156, 154, 160],\n",
       "         [154, 160, 170],\n",
       "         ...,\n",
       "         [ 42,  34,  36],\n",
       "         [ 61,  53,  57],\n",
       "         [ 93,  83,  91]],\n",
       "\n",
       "        [[165, 154, 128],\n",
       "         [156, 152, 130],\n",
       "         [159, 161, 142],\n",
       "         ...,\n",
       "         [103,  93,  96],\n",
       "         [123, 114, 120],\n",
       "         [131, 121, 131]],\n",
       "\n",
       "        [[163, 148, 120],\n",
       "         [158, 148, 122],\n",
       "         [163, 156, 133],\n",
       "         ...,\n",
       "         [143, 133, 139],\n",
       "         [143, 134, 142],\n",
       "         [143, 133, 144]]],\n",
       "\n",
       "\n",
       "       [[[255, 255, 255],\n",
       "         [253, 253, 253],\n",
       "         [253, 253, 253],\n",
       "         ...,\n",
       "         [253, 253, 253],\n",
       "         [253, 253, 253],\n",
       "         [253, 253, 253]],\n",
       "\n",
       "        [[255, 255, 255],\n",
       "         [255, 255, 255],\n",
       "         [255, 255, 255],\n",
       "         ...,\n",
       "         [255, 255, 255],\n",
       "         [255, 255, 255],\n",
       "         [255, 255, 255]],\n",
       "\n",
       "        [[255, 255, 255],\n",
       "         [254, 254, 254],\n",
       "         [254, 254, 254],\n",
       "         ...,\n",
       "         [254, 254, 254],\n",
       "         [254, 254, 254],\n",
       "         [254, 254, 254]],\n",
       "\n",
       "        ...,\n",
       "\n",
       "        [[113, 120, 112],\n",
       "         [111, 118, 111],\n",
       "         [105, 112, 106],\n",
       "         ...,\n",
       "         [ 72,  81,  80],\n",
       "         [ 72,  80,  79],\n",
       "         [ 72,  80,  79]],\n",
       "\n",
       "        [[111, 118, 110],\n",
       "         [104, 111, 104],\n",
       "         [ 99, 106,  98],\n",
       "         ...,\n",
       "         [ 68,  75,  73],\n",
       "         [ 70,  76,  75],\n",
       "         [ 78,  84,  82]],\n",
       "\n",
       "        [[106, 113, 105],\n",
       "         [ 99, 106,  98],\n",
       "         [ 95, 102,  94],\n",
       "         ...,\n",
       "         [ 78,  85,  83],\n",
       "         [ 79,  85,  83],\n",
       "         [ 80,  86,  84]]],\n",
       "\n",
       "\n",
       "       ...,\n",
       "\n",
       "\n",
       "       [[[ 35, 178, 235],\n",
       "         [ 40, 176, 239],\n",
       "         [ 42, 176, 241],\n",
       "         ...,\n",
       "         [ 99, 177, 219],\n",
       "         [ 79, 147, 197],\n",
       "         [ 89, 148, 189]],\n",
       "\n",
       "        [[ 57, 182, 234],\n",
       "         [ 44, 184, 250],\n",
       "         [ 50, 183, 240],\n",
       "         ...,\n",
       "         [156, 182, 200],\n",
       "         [141, 177, 206],\n",
       "         [116, 149, 175]],\n",
       "\n",
       "        [[ 98, 197, 237],\n",
       "         [ 64, 189, 252],\n",
       "         [ 69, 192, 245],\n",
       "         ...,\n",
       "         [188, 195, 206],\n",
       "         [119, 135, 147],\n",
       "         [ 61,  79,  90]],\n",
       "\n",
       "        ...,\n",
       "\n",
       "        [[ 73,  79,  77],\n",
       "         [ 53,  63,  68],\n",
       "         [ 54,  68,  80],\n",
       "         ...,\n",
       "         [ 17,  40,  64],\n",
       "         [ 21,  36,  51],\n",
       "         [ 33,  48,  49]],\n",
       "\n",
       "        [[ 61,  68,  75],\n",
       "         [ 55,  70,  86],\n",
       "         [ 57,  79, 103],\n",
       "         ...,\n",
       "         [ 24,  48,  72],\n",
       "         [ 17,  35,  53],\n",
       "         [  7,  23,  32]],\n",
       "\n",
       "        [[ 44,  56,  73],\n",
       "         [ 46,  66,  88],\n",
       "         [ 49,  77, 105],\n",
       "         ...,\n",
       "         [ 27,  52,  77],\n",
       "         [ 21,  43,  66],\n",
       "         [ 12,  31,  50]]],\n",
       "\n",
       "\n",
       "       [[[189, 211, 240],\n",
       "         [186, 208, 236],\n",
       "         [185, 207, 235],\n",
       "         ...,\n",
       "         [175, 195, 224],\n",
       "         [172, 194, 222],\n",
       "         [169, 194, 220]],\n",
       "\n",
       "        [[194, 210, 239],\n",
       "         [191, 207, 236],\n",
       "         [190, 206, 235],\n",
       "         ...,\n",
       "         [173, 192, 220],\n",
       "         [171, 191, 218],\n",
       "         [167, 190, 216]],\n",
       "\n",
       "        [[208, 219, 244],\n",
       "         [205, 216, 240],\n",
       "         [204, 215, 239],\n",
       "         ...,\n",
       "         [175, 191, 217],\n",
       "         [172, 190, 216],\n",
       "         [169, 191, 215]],\n",
       "\n",
       "        ...,\n",
       "\n",
       "        [[207, 199, 181],\n",
       "         [203, 195, 175],\n",
       "         [203, 196, 173],\n",
       "         ...,\n",
       "         [135, 132, 127],\n",
       "         [162, 158, 150],\n",
       "         [168, 163, 151]],\n",
       "\n",
       "        [[198, 190, 170],\n",
       "         [189, 181, 159],\n",
       "         [180, 172, 147],\n",
       "         ...,\n",
       "         [178, 171, 160],\n",
       "         [175, 169, 156],\n",
       "         [175, 169, 154]],\n",
       "\n",
       "        [[198, 189, 173],\n",
       "         [189, 181, 162],\n",
       "         [178, 170, 149],\n",
       "         ...,\n",
       "         [195, 184, 169],\n",
       "         [196, 189, 171],\n",
       "         [195, 190, 171]]],\n",
       "\n",
       "\n",
       "       [[[229, 229, 239],\n",
       "         [236, 237, 247],\n",
       "         [234, 236, 247],\n",
       "         ...,\n",
       "         [217, 219, 233],\n",
       "         [221, 223, 234],\n",
       "         [222, 223, 233]],\n",
       "\n",
       "        [[222, 221, 229],\n",
       "         [239, 239, 249],\n",
       "         [233, 234, 246],\n",
       "         ...,\n",
       "         [223, 223, 236],\n",
       "         [227, 228, 238],\n",
       "         [210, 211, 220]],\n",
       "\n",
       "        [[213, 206, 211],\n",
       "         [234, 232, 239],\n",
       "         [231, 233, 244],\n",
       "         ...,\n",
       "         [220, 220, 232],\n",
       "         [220, 219, 232],\n",
       "         [202, 203, 215]],\n",
       "\n",
       "        ...,\n",
       "\n",
       "        [[150, 143, 135],\n",
       "         [140, 135, 127],\n",
       "         [132, 127, 120],\n",
       "         ...,\n",
       "         [224, 222, 218],\n",
       "         [230, 228, 225],\n",
       "         [241, 241, 238]],\n",
       "\n",
       "        [[137, 132, 126],\n",
       "         [130, 127, 120],\n",
       "         [125, 121, 115],\n",
       "         ...,\n",
       "         [181, 180, 178],\n",
       "         [202, 201, 198],\n",
       "         [212, 211, 207]],\n",
       "\n",
       "        [[122, 119, 114],\n",
       "         [118, 116, 110],\n",
       "         [120, 116, 111],\n",
       "         ...,\n",
       "         [179, 177, 173],\n",
       "         [164, 164, 162],\n",
       "         [163, 163, 161]]]], dtype=uint8)"
      ]
     },
     "execution_count": 3,
     "metadata": {},
     "output_type": "execute_result"
    }
   ],
   "source": [
    "X_trainRGB"
   ]
  },
  {
   "cell_type": "code",
   "execution_count": 4,
   "id": "e39bd8da",
   "metadata": {},
   "outputs": [
    {
     "data": {
      "text/plain": [
       "array([[6],\n",
       "       [9],\n",
       "       [9],\n",
       "       ...,\n",
       "       [9],\n",
       "       [1],\n",
       "       [1]], dtype=uint8)"
      ]
     },
     "execution_count": 4,
     "metadata": {},
     "output_type": "execute_result"
    }
   ],
   "source": [
    "y_train"
   ]
  },
  {
   "cell_type": "markdown",
   "id": "487e9bd7",
   "metadata": {},
   "source": [
    "#### Переводим классы из двухмерного в одномерный массив"
   ]
  },
  {
   "cell_type": "markdown",
   "id": "29f0afe0",
   "metadata": {},
   "source": [
    "Для тренировочных данных классов"
   ]
  },
  {
   "cell_type": "code",
   "execution_count": 5,
   "id": "8750a666",
   "metadata": {},
   "outputs": [
    {
     "data": {
      "text/plain": [
       "(50000, 1)"
      ]
     },
     "execution_count": 5,
     "metadata": {},
     "output_type": "execute_result"
    }
   ],
   "source": [
    "y_train.shape"
   ]
  },
  {
   "cell_type": "code",
   "execution_count": 6,
   "id": "5ef0994b",
   "metadata": {},
   "outputs": [],
   "source": [
    "y_train = y_train.reshape(-1,)"
   ]
  },
  {
   "cell_type": "code",
   "execution_count": 7,
   "id": "9ca58b3d",
   "metadata": {},
   "outputs": [
    {
     "data": {
      "text/plain": [
       "(50000,)"
      ]
     },
     "execution_count": 7,
     "metadata": {},
     "output_type": "execute_result"
    }
   ],
   "source": [
    "y_train.shape"
   ]
  },
  {
   "cell_type": "markdown",
   "id": "3034c51d",
   "metadata": {},
   "source": [
    "Для тестовых данных классов"
   ]
  },
  {
   "cell_type": "code",
   "execution_count": 8,
   "id": "de08cb00",
   "metadata": {},
   "outputs": [
    {
     "data": {
      "text/plain": [
       "(10000, 1)"
      ]
     },
     "execution_count": 8,
     "metadata": {},
     "output_type": "execute_result"
    }
   ],
   "source": [
    "y_test.shape"
   ]
  },
  {
   "cell_type": "code",
   "execution_count": 9,
   "id": "58b3ff5d",
   "metadata": {},
   "outputs": [],
   "source": [
    "y_test = y_test.reshape(-1,)"
   ]
  },
  {
   "cell_type": "code",
   "execution_count": 10,
   "id": "f8208927",
   "metadata": {},
   "outputs": [
    {
     "data": {
      "text/plain": [
       "(10000,)"
      ]
     },
     "execution_count": 10,
     "metadata": {},
     "output_type": "execute_result"
    }
   ],
   "source": [
    "y_test.shape"
   ]
  },
  {
   "cell_type": "markdown",
   "id": "16cb1ce9",
   "metadata": {},
   "source": [
    "#### Переводим изображения в черно-белые для последующей передачи в sklearn"
   ]
  },
  {
   "cell_type": "code",
   "execution_count": 11,
   "id": "3ba69bff",
   "metadata": {},
   "outputs": [],
   "source": [
    "def show_image(img):\n",
    "    plt.figure(figsize = (32,2))\n",
    "    plt.imshow(img)"
   ]
  },
  {
   "cell_type": "markdown",
   "id": "60425b6d",
   "metadata": {},
   "source": [
    "Работаем с x_train"
   ]
  },
  {
   "cell_type": "code",
   "execution_count": 12,
   "id": "1354030d",
   "metadata": {},
   "outputs": [
    {
     "data": {
      "text/plain": [
       "(50000, 32, 32, 3)"
      ]
     },
     "execution_count": 12,
     "metadata": {},
     "output_type": "execute_result"
    }
   ],
   "source": [
    "X_trainRGB.shape"
   ]
  },
  {
   "cell_type": "code",
   "execution_count": 13,
   "id": "64abd866",
   "metadata": {},
   "outputs": [
    {
     "data": {
      "image/png": "[encoded data removed]",
      "text/plain": [
       "<Figure size 2304x144 with 1 Axes>"
      ]
     },
     "metadata": {
      "needs_background": "light"
     },
     "output_type": "display_data"
    }
   ],
   "source": [
    "show_image(X_trainRGB[8])"
   ]
  },
  {
   "cell_type": "code",
   "execution_count": 14,
   "id": "be8148a8",
   "metadata": {},
   "outputs": [],
   "source": [
    "X_train = np.array([cv2.cvtColor(image, cv2.COLOR_BGR2GRAY) for image in X_trainRGB])"
   ]
  },
  {
   "cell_type": "code",
   "execution_count": 15,
   "id": "5b5fb508",
   "metadata": {},
   "outputs": [
    {
     "data": {
      "text/plain": [
       "(50000, 32, 32)"
      ]
     },
     "execution_count": 15,
     "metadata": {},
     "output_type": "execute_result"
    }
   ],
   "source": [
    "X_train.shape"
   ]
  },
  {
   "cell_type": "code",
   "execution_count": 16,
   "id": "05167491",
   "metadata": {},
   "outputs": [
    {
     "data": {
      "image/png": "[encoded data removed]",
      "text/plain": [
       "<Figure size 2304x144 with 1 Axes>"
      ]
     },
     "metadata": {
      "needs_background": "light"
     },
     "output_type": "display_data"
    }
   ],
   "source": [
    "show_image(X_train[8])"
   ]
  },
  {
   "cell_type": "code",
   "execution_count": 17,
   "id": "2b64d45b",
   "metadata": {},
   "outputs": [],
   "source": [
    "X_train = X_train.reshape(X_train.shape[0],X_train.shape[1]*X_train.shape[2])"
   ]
  },
  {
   "cell_type": "code",
   "execution_count": 18,
   "id": "390805f6",
   "metadata": {},
   "outputs": [
    {
     "data": {
      "text/plain": [
       "(50000, 1024)"
      ]
     },
     "execution_count": 18,
     "metadata": {},
     "output_type": "execute_result"
    }
   ],
   "source": [
    "X_train.shape"
   ]
  },
  {
   "cell_type": "markdown",
   "id": "982922e8",
   "metadata": {},
   "source": [
    "Работаем с X_test"
   ]
  },
  {
   "cell_type": "code",
   "execution_count": 19,
   "id": "483af86c",
   "metadata": {},
   "outputs": [
    {
     "data": {
      "text/plain": [
       "(10000, 32, 32, 3)"
      ]
     },
     "execution_count": 19,
     "metadata": {},
     "output_type": "execute_result"
    }
   ],
   "source": [
    "X_testRGB.shape"
   ]
  },
  {
   "cell_type": "code",
   "execution_count": 20,
   "id": "666d85fc",
   "metadata": {},
   "outputs": [
    {
     "data": {
      "image/png": "[encoded data removed]",
      "text/plain": [
       "<Figure size 2304x144 with 1 Axes>"
      ]
     },
     "metadata": {
      "needs_background": "light"
     },
     "output_type": "display_data"
    }
   ],
   "source": [
    "show_image(X_testRGB[8])"
   ]
  },
  {
   "cell_type": "code",
   "execution_count": 21,
   "id": "c202d8f3",
   "metadata": {},
   "outputs": [],
   "source": [
    "X_test = np.array([cv2.cvtColor(image, cv2.COLOR_BGR2GRAY) for image in X_testRGB])"
   ]
  },
  {
   "cell_type": "code",
   "execution_count": 22,
   "id": "8bd8d126",
   "metadata": {},
   "outputs": [
    {
     "data": {
      "text/plain": [
       "(10000, 32, 32)"
      ]
     },
     "execution_count": 22,
     "metadata": {},
     "output_type": "execute_result"
    }
   ],
   "source": [
    "X_test.shape"
   ]
  },
  {
   "cell_type": "code",
   "execution_count": 23,
   "id": "dd6f6a14",
   "metadata": {},
   "outputs": [
    {
     "data": {
      "image/png": "[encoded data removed]",
      "text/plain": [
       "<Figure size 2304x144 with 1 Axes>"
      ]
     },
     "metadata": {
      "needs_background": "light"
     },
     "output_type": "display_data"
    }
   ],
   "source": [
    "show_image(X_test[8])"
   ]
  },
  {
   "cell_type": "code",
   "execution_count": 24,
   "id": "d66145f3",
   "metadata": {},
   "outputs": [],
   "source": [
    "X_test = X_test.reshape(X_test.shape[0],X_test.shape[1]*X_test.shape[2])"
   ]
  },
  {
   "cell_type": "code",
   "execution_count": 25,
   "id": "df67316c",
   "metadata": {},
   "outputs": [
    {
     "data": {
      "text/plain": [
       "(10000, 1024)"
      ]
     },
     "execution_count": 25,
     "metadata": {},
     "output_type": "execute_result"
    }
   ],
   "source": [
    "X_test.shape"
   ]
  },
  {
   "cell_type": "markdown",
   "id": "8416d050",
   "metadata": {},
   "source": [
    "#### Нормализация изображений"
   ]
  },
  {
   "cell_type": "markdown",
   "id": "a0fc8a65",
   "metadata": {},
   "source": [
    "Для чёрно-белых изображений"
   ]
  },
  {
   "cell_type": "code",
   "execution_count": 26,
   "id": "ff6a75e1",
   "metadata": {},
   "outputs": [
    {
     "data": {
      "text/plain": [
       "array([177, 135, 101, ..., 136, 137, 137], dtype=uint8)"
      ]
     },
     "execution_count": 26,
     "metadata": {},
     "output_type": "execute_result"
    }
   ],
   "source": [
    "X_train[1]"
   ]
  },
  {
   "cell_type": "code",
   "execution_count": 27,
   "id": "c15e75eb",
   "metadata": {},
   "outputs": [],
   "source": [
    "X_train  = X_train/255\n",
    "X_test  = X_test/255"
   ]
  },
  {
   "cell_type": "code",
   "execution_count": 28,
   "id": "936012d0",
   "metadata": {},
   "outputs": [
    {
     "data": {
      "text/plain": [
       "array([0.69411765, 0.52941176, 0.39607843, ..., 0.53333333, 0.5372549 ,\n",
       "       0.5372549 ])"
      ]
     },
     "execution_count": 28,
     "metadata": {},
     "output_type": "execute_result"
    }
   ],
   "source": [
    "X_train[1]"
   ]
  },
  {
   "cell_type": "markdown",
   "id": "9d03636c",
   "metadata": {},
   "source": [
    "Для RGB"
   ]
  },
  {
   "cell_type": "code",
   "execution_count": 29,
   "id": "db24e6a0",
   "metadata": {},
   "outputs": [
    {
     "data": {
      "text/plain": [
       "array([[[154, 177, 187],\n",
       "        [126, 137, 136],\n",
       "        [105, 104,  95],\n",
       "        ...,\n",
       "        [ 91,  95,  71],\n",
       "        [ 87,  90,  71],\n",
       "        [ 79,  81,  70]],\n",
       "\n",
       "       [[140, 160, 169],\n",
       "        [145, 153, 154],\n",
       "        [125, 125, 118],\n",
       "        ...,\n",
       "        [ 96,  99,  78],\n",
       "        [ 77,  80,  62],\n",
       "        [ 71,  73,  61]],\n",
       "\n",
       "       [[140, 155, 164],\n",
       "        [139, 146, 149],\n",
       "        [115, 115, 112],\n",
       "        ...,\n",
       "        [ 79,  82,  64],\n",
       "        [ 68,  70,  55],\n",
       "        [ 67,  69,  55]],\n",
       "\n",
       "       ...,\n",
       "\n",
       "       [[175, 167, 166],\n",
       "        [156, 154, 160],\n",
       "        [154, 160, 170],\n",
       "        ...,\n",
       "        [ 42,  34,  36],\n",
       "        [ 61,  53,  57],\n",
       "        [ 93,  83,  91]],\n",
       "\n",
       "       [[165, 154, 128],\n",
       "        [156, 152, 130],\n",
       "        [159, 161, 142],\n",
       "        ...,\n",
       "        [103,  93,  96],\n",
       "        [123, 114, 120],\n",
       "        [131, 121, 131]],\n",
       "\n",
       "       [[163, 148, 120],\n",
       "        [158, 148, 122],\n",
       "        [163, 156, 133],\n",
       "        ...,\n",
       "        [143, 133, 139],\n",
       "        [143, 134, 142],\n",
       "        [143, 133, 144]]], dtype=uint8)"
      ]
     },
     "execution_count": 29,
     "metadata": {},
     "output_type": "execute_result"
    }
   ],
   "source": [
    "X_trainRGB[1]"
   ]
  },
  {
   "cell_type": "code",
   "execution_count": 30,
   "id": "a8fc8fd0",
   "metadata": {},
   "outputs": [],
   "source": [
    "X_trainRGB  = X_trainRGB/255\n",
    "X_testRGB  = X_testRGB/255"
   ]
  },
  {
   "cell_type": "code",
   "execution_count": 31,
   "id": "8a628192",
   "metadata": {},
   "outputs": [
    {
     "data": {
      "text/plain": [
       "array([[[0.60392157, 0.69411765, 0.73333333],\n",
       "        [0.49411765, 0.5372549 , 0.53333333],\n",
       "        [0.41176471, 0.40784314, 0.37254902],\n",
       "        ...,\n",
       "        [0.35686275, 0.37254902, 0.27843137],\n",
       "        [0.34117647, 0.35294118, 0.27843137],\n",
       "        [0.30980392, 0.31764706, 0.2745098 ]],\n",
       "\n",
       "       [[0.54901961, 0.62745098, 0.6627451 ],\n",
       "        [0.56862745, 0.6       , 0.60392157],\n",
       "        [0.49019608, 0.49019608, 0.4627451 ],\n",
       "        ...,\n",
       "        [0.37647059, 0.38823529, 0.30588235],\n",
       "        [0.30196078, 0.31372549, 0.24313725],\n",
       "        [0.27843137, 0.28627451, 0.23921569]],\n",
       "\n",
       "       [[0.54901961, 0.60784314, 0.64313725],\n",
       "        [0.54509804, 0.57254902, 0.58431373],\n",
       "        [0.45098039, 0.45098039, 0.43921569],\n",
       "        ...,\n",
       "        [0.30980392, 0.32156863, 0.25098039],\n",
       "        [0.26666667, 0.2745098 , 0.21568627],\n",
       "        [0.2627451 , 0.27058824, 0.21568627]],\n",
       "\n",
       "       ...,\n",
       "\n",
       "       [[0.68627451, 0.65490196, 0.65098039],\n",
       "        [0.61176471, 0.60392157, 0.62745098],\n",
       "        [0.60392157, 0.62745098, 0.66666667],\n",
       "        ...,\n",
       "        [0.16470588, 0.13333333, 0.14117647],\n",
       "        [0.23921569, 0.20784314, 0.22352941],\n",
       "        [0.36470588, 0.3254902 , 0.35686275]],\n",
       "\n",
       "       [[0.64705882, 0.60392157, 0.50196078],\n",
       "        [0.61176471, 0.59607843, 0.50980392],\n",
       "        [0.62352941, 0.63137255, 0.55686275],\n",
       "        ...,\n",
       "        [0.40392157, 0.36470588, 0.37647059],\n",
       "        [0.48235294, 0.44705882, 0.47058824],\n",
       "        [0.51372549, 0.4745098 , 0.51372549]],\n",
       "\n",
       "       [[0.63921569, 0.58039216, 0.47058824],\n",
       "        [0.61960784, 0.58039216, 0.47843137],\n",
       "        [0.63921569, 0.61176471, 0.52156863],\n",
       "        ...,\n",
       "        [0.56078431, 0.52156863, 0.54509804],\n",
       "        [0.56078431, 0.5254902 , 0.55686275],\n",
       "        [0.56078431, 0.52156863, 0.56470588]]])"
      ]
     },
     "execution_count": 31,
     "metadata": {},
     "output_type": "execute_result"
    }
   ],
   "source": [
    "X_trainRGB[1]"
   ]
  },
  {
   "cell_type": "markdown",
   "id": "83f63e0b",
   "metadata": {},
   "source": [
    "## Работа с в sklearn"
   ]
  },
  {
   "cell_type": "markdown",
   "id": "b344c851",
   "metadata": {},
   "source": [
    "Реализация \"классических\" алогритмов с помощью библиотеки sklearn.<br>Обработка матриц проходит только на CPU, так что надо ОЧЕНЬ долго пождождать"
   ]
  },
  {
   "cell_type": "code",
   "execution_count": 20,
   "id": "8f1e47b8",
   "metadata": {},
   "outputs": [
    {
     "name": "stdout",
     "output_type": "stream",
     "text": [
      "              precision    recall  f1-score   support\n",
      "\n",
      "           0       0.50      0.47      0.49      1000\n",
      "           1       0.55      0.54      0.55      1000\n",
      "           2       0.35      0.32      0.33      1000\n",
      "           3       0.33      0.28      0.30      1000\n",
      "           4       0.36      0.44      0.40      1000\n",
      "           5       0.47      0.37      0.42      1000\n",
      "           6       0.44      0.55      0.49      1000\n",
      "           7       0.55      0.47      0.51      1000\n",
      "           8       0.53      0.60      0.56      1000\n",
      "           9       0.51      0.56      0.53      1000\n",
      "\n",
      "    accuracy                           0.46     10000\n",
      "   macro avg       0.46      0.46      0.46     10000\n",
      "weighted avg       0.46      0.46      0.46     10000\n",
      "\n",
      "Время выполнения 2039.4892559051514\n"
     ]
    }
   ],
   "source": [
    "# Реализация метода опорных векторов через SVC\n",
    "from sklearn import svm\n",
    "\n",
    "start_time = time.time()\n",
    "nb = svm.SVC().fit(X_train, y_train)\n",
    "y_pred = nb.predict(X_test)\n",
    "print(metrics.classification_report(y_test, y_pred))\n",
    "print(\"Время выполнения\", (time.time()-start_time))"
   ]
  },
  {
   "cell_type": "code",
   "execution_count": 19,
   "id": "032520ef",
   "metadata": {},
   "outputs": [
    {
     "name": "stdout",
     "output_type": "stream",
     "text": [
      "              precision    recall  f1-score   support\n",
      "\n",
      "           0       0.18      0.11      0.13      1000\n",
      "           1       0.30      0.15      0.20      1000\n",
      "           2       0.33      0.15      0.21      1000\n",
      "           3       0.20      0.06      0.10      1000\n",
      "           4       0.20      0.17      0.18      1000\n",
      "           5       0.19      0.44      0.27      1000\n",
      "           6       0.20      0.08      0.12      1000\n",
      "           7       0.18      0.23      0.21      1000\n",
      "           8       0.25      0.40      0.31      1000\n",
      "           9       0.30      0.51      0.37      1000\n",
      "\n",
      "    accuracy                           0.23     10000\n",
      "   macro avg       0.23      0.23      0.21     10000\n",
      "weighted avg       0.23      0.23      0.21     10000\n",
      "\n",
      "Время выполнения 0.3874680995941162\n"
     ]
    }
   ],
   "source": [
    "#Реализация наивного байесовского метода\n",
    "from sklearn.naive_bayes import MultinomialNB\n",
    "\n",
    "start_time = time.time()\n",
    "nb = MultinomialNB().fit(X_train, y_train)\n",
    "y_pred = nb.predict(X_test)\n",
    "print(metrics.classification_report(y_test, y_pred))\n",
    "print(\"Время выполнения\", (time.time()-start_time))"
   ]
  },
  {
   "cell_type": "code",
   "execution_count": 19,
   "id": "71058e63",
   "metadata": {},
   "outputs": [
    {
     "name": "stdout",
     "output_type": "stream",
     "text": [
      "              precision    recall  f1-score   support\n",
      "\n",
      "           0       0.36      0.36      0.36      1000\n",
      "           1       0.84      0.07      0.13      1000\n",
      "           2       0.23      0.35      0.28      1000\n",
      "           3       0.33      0.06      0.10      1000\n",
      "           4       0.18      0.59      0.27      1000\n",
      "           5       0.58      0.13      0.21      1000\n",
      "           6       0.27      0.24      0.25      1000\n",
      "           7       0.65      0.14      0.23      1000\n",
      "           8       0.29      0.67      0.40      1000\n",
      "           9       0.65      0.14      0.23      1000\n",
      "\n",
      "    accuracy                           0.28     10000\n",
      "   macro avg       0.44      0.28      0.25     10000\n",
      "weighted avg       0.44      0.28      0.25     10000\n",
      "\n",
      "Время выполнения 16.37787103652954\n"
     ]
    }
   ],
   "source": [
    "# Реализация метода k-ближайших соседей\n",
    "import sklearn.neighbors as neigh\n",
    "\n",
    "start_time = time.time()\n",
    "kn = neigh.KNeighborsClassifier(n_neighbors=90, n_jobs=6).fit(X_train,y_train)\n",
    "y_pred = kn.predict(X_test)\n",
    "print(metrics.classification_report(y_test, y_pred))\n",
    "print(\"Время выполнения\", (time.time()-start_time))"
   ]
  },
  {
   "cell_type": "code",
   "execution_count": 32,
   "id": "0c8f06e5",
   "metadata": {},
   "outputs": [
    {
     "name": "stdout",
     "output_type": "stream",
     "text": [
      "              precision    recall  f1-score   support\n",
      "\n",
      "           0       0.33      0.38      0.35      1000\n",
      "           1       0.30      0.36      0.32      1000\n",
      "           2       0.22      0.14      0.17      1000\n",
      "           3       0.21      0.12      0.15      1000\n",
      "           4       0.23      0.16      0.19      1000\n",
      "           5       0.27      0.28      0.27      1000\n",
      "           6       0.23      0.25      0.24      1000\n",
      "           7       0.28      0.27      0.27      1000\n",
      "           8       0.31      0.39      0.35      1000\n",
      "           9       0.31      0.46      0.37      1000\n",
      "\n",
      "    accuracy                           0.28     10000\n",
      "   macro avg       0.27      0.28      0.27     10000\n",
      "weighted avg       0.27      0.28      0.27     10000\n",
      "\n",
      "Время выполнения 4147.31783413887\n"
     ]
    },
    {
     "name": "stderr",
     "output_type": "stream",
     "text": [
      "/Users/demg/miniforge3/envs/env_tf/lib/python3.9/site-packages/sklearn/svm/_base.py:1206: ConvergenceWarning: Liblinear failed to converge, increase the number of iterations.\n",
      "  warnings.warn(\n"
     ]
    }
   ],
   "source": [
    "# Реализация метода опорных векторов через LinearSVC\n",
    "start_time = time.time()\n",
    "import sklearn.svm as svm\n",
    "svect = svm.LinearSVC(max_iter=5000).fit(X_train, y_train)\n",
    "y_pred = svect.predict(X_test)\n",
    "print(metrics.classification_report(y_test, y_pred))\n",
    "print(\"Время выполнения\", (time.time()-start_time))"
   ]
  },
  {
   "cell_type": "code",
   "execution_count": 18,
   "id": "f2935b64",
   "metadata": {},
   "outputs": [
    {
     "name": "stdout",
     "output_type": "stream",
     "text": [
      "              precision    recall  f1-score   support\n",
      "\n",
      "           0       0.34      0.36      0.35      1000\n",
      "           1       0.33      0.35      0.34      1000\n",
      "           2       0.22      0.19      0.21      1000\n",
      "           3       0.20      0.16      0.18      1000\n",
      "           4       0.21      0.18      0.20      1000\n",
      "           5       0.27      0.27      0.27      1000\n",
      "           6       0.25      0.28      0.27      1000\n",
      "           7       0.28      0.27      0.28      1000\n",
      "           8       0.33      0.38      0.36      1000\n",
      "           9       0.36      0.41      0.39      1000\n",
      "\n",
      "    accuracy                           0.29     10000\n",
      "   macro avg       0.28      0.29      0.28     10000\n",
      "weighted avg       0.28      0.29      0.28     10000\n",
      "\n",
      "Время выполнения 228.5255832672119\n"
     ]
    },
    {
     "name": "stderr",
     "output_type": "stream",
     "text": [
      "/Users/demg/miniforge3/envs/env_tf/lib/python3.9/site-packages/sklearn/linear_model/_logistic.py:814: ConvergenceWarning: lbfgs failed to converge (status=1):\n",
      "STOP: TOTAL NO. of ITERATIONS REACHED LIMIT.\n",
      "\n",
      "Increase the number of iterations (max_iter) or scale the data as shown in:\n",
      "    https://scikit-learn.org/stable/modules/preprocessing.html\n",
      "Please also refer to the documentation for alternative solver options:\n",
      "    https://scikit-learn.org/stable/modules/linear_model.html#logistic-regression\n",
      "  n_iter_i = _check_optimize_result(\n"
     ]
    }
   ],
   "source": [
    "# Реализация логистической регресси\n",
    "from sklearn.linear_model import LogisticRegression\n",
    "\n",
    "start_time = time.time()\n",
    "logr = LogisticRegression(max_iter=5000, n_jobs=6).fit(X_train, y_train)\n",
    "y_pred = logr.predict(X_test)\n",
    "print(metrics.classification_report(y_test, y_pred))\n",
    "print(\"Время выполнения\", (time.time()-start_time))"
   ]
  },
  {
   "cell_type": "markdown",
   "id": "c4498f2f",
   "metadata": {},
   "source": [
    "## Реализация в keras"
   ]
  },
  {
   "cell_type": "markdown",
   "id": "f1a1c412",
   "metadata": {},
   "source": [
    "Реализация классификатора с использованием алгоритмов глубокого обучения ANN и CNN"
   ]
  },
  {
   "cell_type": "code",
   "execution_count": 186,
   "id": "b194544e",
   "metadata": {},
   "outputs": [],
   "source": [
    "from keras.utils.vis_utils import plot_model\n",
    "import visualkeras\n",
    "import pandas as pd\n",
    "import numpy as np"
   ]
  },
  {
   "cell_type": "markdown",
   "id": "67521803",
   "metadata": {},
   "source": [
    "#### Строим простую ANN (artificial neural network)"
   ]
  },
  {
   "cell_type": "code",
   "execution_count": 187,
   "id": "23e1c445",
   "metadata": {},
   "outputs": [],
   "source": [
    "ann = models.Sequential([\n",
    "        layers.Flatten(input_shape=(32,32,3)),\n",
    "        layers.Dense(3000, activation='relu'),\n",
    "        layers.Dense(1000, activation='relu'),\n",
    "        layers.Dense(10, activation='softmax')    \n",
    "    ])"
   ]
  },
  {
   "cell_type": "code",
   "execution_count": 188,
   "id": "f76b992f",
   "metadata": {},
   "outputs": [
    {
     "data": {
      "image/png": "[encoded data removed]",
      "text/plain": [
       "<PIL.Image.Image image mode=RGBA size=784x63 at 0x326017A90>"
      ]
     },
     "execution_count": 188,
     "metadata": {},
     "output_type": "execute_result"
    }
   ],
   "source": [
    "visualkeras.layered_view(ann, legend=True) "
   ]
  },
  {
   "cell_type": "code",
   "execution_count": 189,
   "id": "287f7983",
   "metadata": {
    "scrolled": true
   },
   "outputs": [
    {
     "name": "stdout",
     "output_type": "stream",
     "text": [
      "Model: \"sequential_20\"\n",
      "_________________________________________________________________\n",
      " Layer (type)                Output Shape              Param #   \n",
      "=================================================================\n",
      " flatten_20 (Flatten)        (None, 3072)              0         \n",
      "                                                                 \n",
      " dense_44 (Dense)            (None, 3000)              9219000   \n",
      "                                                                 \n",
      " dense_45 (Dense)            (None, 1000)              3001000   \n",
      "                                                                 \n",
      " dense_46 (Dense)            (None, 10)                10010     \n",
      "                                                                 \n",
      "=================================================================\n",
      "Total params: 12,230,010\n",
      "Trainable params: 12,230,010\n",
      "Non-trainable params: 0\n",
      "_________________________________________________________________\n"
     ]
    }
   ],
   "source": [
    "ann.summary()"
   ]
  },
  {
   "cell_type": "code",
   "execution_count": 190,
   "id": "52c8d903",
   "metadata": {},
   "outputs": [],
   "source": [
    "ann.compile(optimizer='SGD',\n",
    "              loss='sparse_categorical_crossentropy',\n",
    "              metrics=['accuracy'])"
   ]
  },
  {
   "cell_type": "code",
   "execution_count": 191,
   "id": "5609abc0",
   "metadata": {},
   "outputs": [
    {
     "name": "stdout",
     "output_type": "stream",
     "text": [
      "Epoch 1/150\n"
     ]
    },
    {
     "name": "stderr",
     "output_type": "stream",
     "text": [
      "2022-04-06 19:39:27.403264: I tensorflow/core/grappler/optimizers/custom_graph_optimizer_registry.cc:113] Plugin optimizer for device_type GPU is enabled.\n"
     ]
    },
    {
     "name": "stdout",
     "output_type": "stream",
     "text": [
      "1563/1563 [==============================] - 28s 16ms/step - loss: 1.8160 - accuracy: 0.3536\n",
      "Epoch 2/150\n",
      "1563/1563 [==============================] - 23s 14ms/step - loss: 1.6238 - accuracy: 0.4258\n",
      "Epoch 3/150\n",
      "1563/1563 [==============================] - 23s 15ms/step - loss: 1.5424 - accuracy: 0.4570\n",
      "Epoch 4/150\n",
      "1563/1563 [==============================] - 24s 15ms/step - loss: 1.4794 - accuracy: 0.4774\n",
      "Epoch 5/150\n",
      "1563/1563 [==============================] - 23s 15ms/step - loss: 1.4336 - accuracy: 0.4967\n",
      "Epoch 6/150\n",
      "1563/1563 [==============================] - 24s 15ms/step - loss: 1.3895 - accuracy: 0.5115\n",
      "Epoch 7/150\n",
      "1563/1563 [==============================] - 24s 15ms/step - loss: 1.3505 - accuracy: 0.5251\n",
      "Epoch 8/150\n",
      "1563/1563 [==============================] - 23s 14ms/step - loss: 1.3161 - accuracy: 0.5387\n",
      "Epoch 9/150\n",
      "1563/1563 [==============================] - 23s 15ms/step - loss: 1.2836 - accuracy: 0.5502\n",
      "Epoch 10/150\n",
      "1563/1563 [==============================] - 22s 14ms/step - loss: 1.2507 - accuracy: 0.5618\n",
      "Epoch 11/150\n",
      "1563/1563 [==============================] - 22s 14ms/step - loss: 1.2219 - accuracy: 0.5725\n",
      "Epoch 12/150\n",
      "1563/1563 [==============================] - 26s 16ms/step - loss: 1.1969 - accuracy: 0.5807\n",
      "Epoch 13/150\n",
      "1563/1563 [==============================] - 22s 14ms/step - loss: 1.1681 - accuracy: 0.5929\n",
      "Epoch 14/150\n",
      "1563/1563 [==============================] - 23s 15ms/step - loss: 1.1403 - accuracy: 0.6036\n",
      "Epoch 15/150\n",
      "1563/1563 [==============================] - 23s 15ms/step - loss: 1.1136 - accuracy: 0.6129\n",
      "Epoch 16/150\n",
      "1563/1563 [==============================] - 24s 15ms/step - loss: 1.0848 - accuracy: 0.6229\n",
      "Epoch 17/150\n",
      "1563/1563 [==============================] - 24s 15ms/step - loss: 1.0583 - accuracy: 0.6339\n",
      "Epoch 18/150\n",
      "1563/1563 [==============================] - 23s 15ms/step - loss: 1.0347 - accuracy: 0.6405\n",
      "Epoch 19/150\n",
      "1563/1563 [==============================] - 24s 15ms/step - loss: 1.0092 - accuracy: 0.6496\n",
      "Epoch 20/150\n",
      "1563/1563 [==============================] - 23s 15ms/step - loss: 0.9814 - accuracy: 0.6618\n",
      "Epoch 21/150\n",
      "1563/1563 [==============================] - 23s 14ms/step - loss: 0.9558 - accuracy: 0.6683\n",
      "Epoch 22/150\n",
      "1563/1563 [==============================] - 23s 15ms/step - loss: 0.9325 - accuracy: 0.6767\n",
      "Epoch 23/150\n",
      "1563/1563 [==============================] - 24s 15ms/step - loss: 0.9036 - accuracy: 0.6868\n",
      "Epoch 24/150\n",
      "1563/1563 [==============================] - 25s 16ms/step - loss: 0.8794 - accuracy: 0.6973\n",
      "Epoch 25/150\n",
      "1563/1563 [==============================] - 24s 15ms/step - loss: 0.8544 - accuracy: 0.7065\n",
      "Epoch 26/150\n",
      "1563/1563 [==============================] - 24s 15ms/step - loss: 0.8300 - accuracy: 0.7156\n",
      "Epoch 27/150\n",
      "1563/1563 [==============================] - 23s 15ms/step - loss: 0.8038 - accuracy: 0.7231\n",
      "Epoch 28/150\n",
      "1563/1563 [==============================] - 22s 14ms/step - loss: 0.7780 - accuracy: 0.7329\n",
      "Epoch 29/150\n",
      "1563/1563 [==============================] - 22s 14ms/step - loss: 0.7513 - accuracy: 0.7414\n",
      "Epoch 30/150\n",
      "1563/1563 [==============================] - 22s 14ms/step - loss: 0.7308 - accuracy: 0.7507\n",
      "Epoch 31/150\n",
      "1563/1563 [==============================] - 25s 16ms/step - loss: 0.7040 - accuracy: 0.7622\n",
      "Epoch 32/150\n",
      "1563/1563 [==============================] - 23s 15ms/step - loss: 0.6802 - accuracy: 0.7705\n",
      "Epoch 33/150\n",
      "1563/1563 [==============================] - 23s 15ms/step - loss: 0.6563 - accuracy: 0.7801\n",
      "Epoch 34/150\n",
      "1563/1563 [==============================] - 23s 15ms/step - loss: 0.6313 - accuracy: 0.7861\n",
      "Epoch 35/150\n",
      "1563/1563 [==============================] - 23s 15ms/step - loss: 0.6065 - accuracy: 0.7964\n",
      "Epoch 36/150\n",
      "1563/1563 [==============================] - 24s 15ms/step - loss: 0.5831 - accuracy: 0.8051\n",
      "Epoch 37/150\n",
      "1563/1563 [==============================] - 23s 15ms/step - loss: 0.5563 - accuracy: 0.8162\n",
      "Epoch 38/150\n",
      "1563/1563 [==============================] - 23s 15ms/step - loss: 0.5318 - accuracy: 0.8234\n",
      "Epoch 39/150\n",
      "1563/1563 [==============================] - 23s 15ms/step - loss: 0.5126 - accuracy: 0.8310\n",
      "Epoch 40/150\n",
      "1563/1563 [==============================] - 24s 15ms/step - loss: 0.4898 - accuracy: 0.8395\n",
      "Epoch 41/150\n",
      "1563/1563 [==============================] - 23s 15ms/step - loss: 0.4719 - accuracy: 0.8462\n",
      "Epoch 42/150\n",
      "1563/1563 [==============================] - 26s 16ms/step - loss: 0.4472 - accuracy: 0.8549\n",
      "Epoch 43/150\n",
      "1563/1563 [==============================] - 23s 15ms/step - loss: 0.4258 - accuracy: 0.8639\n",
      "Epoch 44/150\n",
      "1563/1563 [==============================] - 23s 15ms/step - loss: 0.4048 - accuracy: 0.8701\n",
      "Epoch 45/150\n",
      "1563/1563 [==============================] - 23s 15ms/step - loss: 0.3838 - accuracy: 0.8787\n",
      "Epoch 46/150\n",
      "1563/1563 [==============================] - 23s 15ms/step - loss: 0.3665 - accuracy: 0.8844\n",
      "Epoch 47/150\n",
      "1563/1563 [==============================] - 23s 15ms/step - loss: 0.3467 - accuracy: 0.8930\n",
      "Epoch 48/150\n",
      "1563/1563 [==============================] - 24s 15ms/step - loss: 0.3268 - accuracy: 0.8993\n",
      "Epoch 49/150\n",
      "1563/1563 [==============================] - 23s 14ms/step - loss: 0.3123 - accuracy: 0.9054\n",
      "Epoch 50/150\n",
      "1563/1563 [==============================] - 23s 15ms/step - loss: 0.2929 - accuracy: 0.9118\n",
      "Epoch 51/150\n",
      "1563/1563 [==============================] - 22s 14ms/step - loss: 0.2777 - accuracy: 0.9170\n",
      "Epoch 52/150\n",
      "1563/1563 [==============================] - 23s 15ms/step - loss: 0.2626 - accuracy: 0.9232\n",
      "Epoch 53/150\n",
      "1563/1563 [==============================] - 24s 15ms/step - loss: 0.2468 - accuracy: 0.9276\n",
      "Epoch 54/150\n",
      "1563/1563 [==============================] - 24s 15ms/step - loss: 0.2339 - accuracy: 0.9334\n",
      "Epoch 55/150\n",
      "1563/1563 [==============================] - 24s 15ms/step - loss: 0.2188 - accuracy: 0.9386\n",
      "Epoch 56/150\n",
      "1563/1563 [==============================] - 24s 15ms/step - loss: 0.2049 - accuracy: 0.9429\n",
      "Epoch 57/150\n",
      "1563/1563 [==============================] - 23s 15ms/step - loss: 0.1896 - accuracy: 0.9493\n",
      "Epoch 58/150\n",
      "1563/1563 [==============================] - 23s 15ms/step - loss: 0.1785 - accuracy: 0.9529\n",
      "Epoch 59/150\n",
      "1563/1563 [==============================] - 24s 15ms/step - loss: 0.1693 - accuracy: 0.9554\n",
      "Epoch 60/150\n",
      "1563/1563 [==============================] - 23s 15ms/step - loss: 0.1598 - accuracy: 0.9577\n",
      "Epoch 61/150\n",
      "1563/1563 [==============================] - 22s 14ms/step - loss: 0.1465 - accuracy: 0.9631\n",
      "Epoch 62/150\n",
      "1563/1563 [==============================] - 24s 15ms/step - loss: 0.1393 - accuracy: 0.9657\n",
      "Epoch 63/150\n",
      "1563/1563 [==============================] - 25s 16ms/step - loss: 0.1296 - accuracy: 0.9687\n",
      "Epoch 64/150\n",
      "1563/1563 [==============================] - 24s 15ms/step - loss: 0.1193 - accuracy: 0.9715\n",
      "Epoch 65/150\n",
      "1563/1563 [==============================] - 24s 16ms/step - loss: 0.1116 - accuracy: 0.9748\n",
      "Epoch 66/150\n",
      "1563/1563 [==============================] - 27s 17ms/step - loss: 0.1011 - accuracy: 0.9782\n",
      "Epoch 67/150\n",
      "1563/1563 [==============================] - 28s 18ms/step - loss: 0.0924 - accuracy: 0.9805\n",
      "Epoch 68/150\n",
      "1563/1563 [==============================] - 24s 15ms/step - loss: 0.0918 - accuracy: 0.9810\n",
      "Epoch 69/150\n",
      "1563/1563 [==============================] - 28s 18ms/step - loss: 0.0857 - accuracy: 0.9823\n",
      "Epoch 70/150\n",
      "1563/1563 [==============================] - 24s 15ms/step - loss: 0.0755 - accuracy: 0.9853\n",
      "Epoch 71/150\n",
      "1563/1563 [==============================] - 24s 15ms/step - loss: 0.0731 - accuracy: 0.9859\n",
      "Epoch 72/150\n",
      "1563/1563 [==============================] - 24s 16ms/step - loss: 0.0648 - accuracy: 0.9884\n",
      "Epoch 73/150\n",
      "1563/1563 [==============================] - 25s 16ms/step - loss: 0.0595 - accuracy: 0.9899\n",
      "Epoch 74/150\n",
      "1563/1563 [==============================] - 26s 17ms/step - loss: 0.0570 - accuracy: 0.9901\n",
      "Epoch 75/150\n",
      "1563/1563 [==============================] - 23s 15ms/step - loss: 0.0512 - accuracy: 0.9924\n",
      "Epoch 76/150\n",
      "1563/1563 [==============================] - 24s 15ms/step - loss: 0.0471 - accuracy: 0.9930\n",
      "Epoch 77/150\n",
      "1563/1563 [==============================] - 25s 16ms/step - loss: 0.0433 - accuracy: 0.9939\n",
      "Epoch 78/150\n"
     ]
    },
    {
     "name": "stdout",
     "output_type": "stream",
     "text": [
      "1563/1563 [==============================] - 24s 16ms/step - loss: 0.0399 - accuracy: 0.9945\n",
      "Epoch 79/150\n",
      "1563/1563 [==============================] - 24s 16ms/step - loss: 0.0375 - accuracy: 0.9952\n",
      "Epoch 80/150\n",
      "1563/1563 [==============================] - 23s 15ms/step - loss: 0.0357 - accuracy: 0.9952\n",
      "Epoch 81/150\n",
      "1563/1563 [==============================] - 26s 17ms/step - loss: 0.0368 - accuracy: 0.9947\n",
      "Epoch 82/150\n",
      "1563/1563 [==============================] - 25s 16ms/step - loss: 0.0323 - accuracy: 0.9958\n",
      "Epoch 83/150\n",
      "1563/1563 [==============================] - 24s 16ms/step - loss: 0.0286 - accuracy: 0.9969\n",
      "Epoch 84/150\n",
      "1563/1563 [==============================] - 27s 17ms/step - loss: 0.0265 - accuracy: 0.9973\n",
      "Epoch 85/150\n",
      "1563/1563 [==============================] - 26s 16ms/step - loss: 0.0240 - accuracy: 0.9977\n",
      "Epoch 86/150\n",
      "1563/1563 [==============================] - 26s 17ms/step - loss: 0.0230 - accuracy: 0.9981\n",
      "Epoch 87/150\n",
      "1563/1563 [==============================] - 24s 16ms/step - loss: 0.0216 - accuracy: 0.9980\n",
      "Epoch 88/150\n",
      "1563/1563 [==============================] - 24s 15ms/step - loss: 0.0202 - accuracy: 0.9985\n",
      "Epoch 89/150\n",
      "1563/1563 [==============================] - 24s 15ms/step - loss: 0.0188 - accuracy: 0.9984\n",
      "Epoch 90/150\n",
      "1563/1563 [==============================] - 23s 15ms/step - loss: 0.0184 - accuracy: 0.9985\n",
      "Epoch 91/150\n",
      "1563/1563 [==============================] - 23s 15ms/step - loss: 0.0161 - accuracy: 0.9990\n",
      "Epoch 92/150\n",
      "1563/1563 [==============================] - 25s 16ms/step - loss: 0.0161 - accuracy: 0.9988\n",
      "Epoch 93/150\n",
      "1563/1563 [==============================] - 22s 14ms/step - loss: 0.0165 - accuracy: 0.9987\n",
      "Epoch 94/150\n",
      "1563/1563 [==============================] - 22s 14ms/step - loss: 0.0135 - accuracy: 0.9994\n",
      "Epoch 95/150\n",
      "1563/1563 [==============================] - 24s 15ms/step - loss: 0.0132 - accuracy: 0.9995\n",
      "Epoch 96/150\n",
      "1563/1563 [==============================] - 22s 14ms/step - loss: 0.0122 - accuracy: 0.9994\n",
      "Epoch 97/150\n",
      "1563/1563 [==============================] - 22s 14ms/step - loss: 0.0124 - accuracy: 0.9994\n",
      "Epoch 98/150\n",
      "1563/1563 [==============================] - 22s 14ms/step - loss: 0.0117 - accuracy: 0.9995\n",
      "Epoch 99/150\n",
      "1563/1563 [==============================] - 23s 15ms/step - loss: 0.0115 - accuracy: 0.9995\n",
      "Epoch 100/150\n",
      "1563/1563 [==============================] - 22s 14ms/step - loss: 0.0104 - accuracy: 0.9997\n",
      "Epoch 101/150\n",
      "1563/1563 [==============================] - 23s 14ms/step - loss: 0.0097 - accuracy: 0.9998\n",
      "Epoch 102/150\n",
      "1563/1563 [==============================] - 23s 15ms/step - loss: 0.0097 - accuracy: 0.9996\n",
      "Epoch 103/150\n",
      "1563/1563 [==============================] - 22s 14ms/step - loss: 0.0093 - accuracy: 0.9997\n",
      "Epoch 104/150\n",
      "1563/1563 [==============================] - 22s 14ms/step - loss: 0.0089 - accuracy: 0.9997\n",
      "Epoch 105/150\n",
      "1563/1563 [==============================] - 22s 14ms/step - loss: 0.0087 - accuracy: 0.9998\n",
      "Epoch 106/150\n",
      "1563/1563 [==============================] - 23s 14ms/step - loss: 0.0087 - accuracy: 0.9996\n",
      "Epoch 107/150\n",
      "1563/1563 [==============================] - 22s 14ms/step - loss: 0.0081 - accuracy: 0.9998\n",
      "Epoch 108/150\n",
      "1563/1563 [==============================] - 22s 14ms/step - loss: 0.0076 - accuracy: 0.9999\n",
      "Epoch 109/150\n",
      "1563/1563 [==============================] - 23s 15ms/step - loss: 0.0073 - accuracy: 0.9999\n",
      "Epoch 110/150\n",
      "1563/1563 [==============================] - 24s 16ms/step - loss: 0.0070 - accuracy: 0.9999\n",
      "Epoch 111/150\n",
      "1563/1563 [==============================] - 23s 15ms/step - loss: 0.0069 - accuracy: 0.9999\n",
      "Epoch 112/150\n",
      "1563/1563 [==============================] - 24s 15ms/step - loss: 0.0066 - accuracy: 1.0000\n",
      "Epoch 113/150\n",
      "1563/1563 [==============================] - 24s 15ms/step - loss: 0.0065 - accuracy: 0.9999\n",
      "Epoch 114/150\n",
      "1563/1563 [==============================] - 24s 16ms/step - loss: 0.0063 - accuracy: 0.9999\n",
      "Epoch 115/150\n",
      "1563/1563 [==============================] - 23s 15ms/step - loss: 0.0062 - accuracy: 0.9999\n",
      "Epoch 116/150\n",
      "1563/1563 [==============================] - 23s 15ms/step - loss: 0.0061 - accuracy: 0.9999\n",
      "Epoch 117/150\n",
      "1563/1563 [==============================] - 24s 15ms/step - loss: 0.0059 - accuracy: 0.9999\n",
      "Epoch 118/150\n",
      "1563/1563 [==============================] - 23s 15ms/step - loss: 0.0057 - accuracy: 1.0000\n",
      "Epoch 119/150\n",
      "1563/1563 [==============================] - 24s 16ms/step - loss: 0.0054 - accuracy: 1.0000\n",
      "Epoch 120/150\n",
      "1563/1563 [==============================] - 24s 15ms/step - loss: 0.0053 - accuracy: 1.0000\n",
      "Epoch 121/150\n",
      "1563/1563 [==============================] - 25s 16ms/step - loss: 0.0051 - accuracy: 1.0000\n",
      "Epoch 122/150\n",
      "1563/1563 [==============================] - 24s 15ms/step - loss: 0.0050 - accuracy: 1.0000\n",
      "Epoch 123/150\n",
      "1563/1563 [==============================] - 24s 15ms/step - loss: 0.0050 - accuracy: 1.0000\n",
      "Epoch 124/150\n",
      "1563/1563 [==============================] - 22s 14ms/step - loss: 0.0048 - accuracy: 1.0000\n",
      "Epoch 125/150\n",
      "1563/1563 [==============================] - 23s 15ms/step - loss: 0.0047 - accuracy: 1.0000\n",
      "Epoch 126/150\n",
      "1563/1563 [==============================] - 24s 15ms/step - loss: 0.0046 - accuracy: 1.0000\n",
      "Epoch 127/150\n",
      "1563/1563 [==============================] - 23s 15ms/step - loss: 0.0045 - accuracy: 1.0000\n",
      "Epoch 128/150\n",
      "1563/1563 [==============================] - 24s 15ms/step - loss: 0.0044 - accuracy: 1.0000\n",
      "Epoch 129/150\n",
      "1563/1563 [==============================] - 24s 15ms/step - loss: 0.0047 - accuracy: 0.9999\n",
      "Epoch 130/150\n",
      "1563/1563 [==============================] - 23s 15ms/step - loss: 0.0043 - accuracy: 1.0000\n",
      "Epoch 131/150\n",
      "1563/1563 [==============================] - 23s 15ms/step - loss: 0.0044 - accuracy: 1.0000\n",
      "Epoch 132/150\n",
      "1563/1563 [==============================] - 24s 15ms/step - loss: 0.0041 - accuracy: 1.0000\n",
      "Epoch 133/150\n",
      "1563/1563 [==============================] - 22s 14ms/step - loss: 0.0040 - accuracy: 1.0000\n",
      "Epoch 134/150\n",
      "1563/1563 [==============================] - 23s 15ms/step - loss: 0.0041 - accuracy: 1.0000\n",
      "Epoch 135/150\n",
      "1563/1563 [==============================] - 22s 14ms/step - loss: 0.0039 - accuracy: 1.0000\n",
      "Epoch 136/150\n",
      "1563/1563 [==============================] - 23s 14ms/step - loss: 0.0044 - accuracy: 0.9999\n",
      "Epoch 137/150\n",
      "1563/1563 [==============================] - 23s 15ms/step - loss: 0.0044 - accuracy: 0.9999\n",
      "Epoch 138/150\n",
      "1563/1563 [==============================] - 23s 15ms/step - loss: 0.0037 - accuracy: 1.0000\n",
      "Epoch 139/150\n",
      "1563/1563 [==============================] - 23s 15ms/step - loss: 0.0036 - accuracy: 1.0000\n",
      "Epoch 140/150\n",
      "1563/1563 [==============================] - 26s 16ms/step - loss: 0.0036 - accuracy: 1.0000\n",
      "Epoch 141/150\n",
      "1563/1563 [==============================] - 25s 16ms/step - loss: 0.0035 - accuracy: 1.0000\n",
      "Epoch 142/150\n",
      "1563/1563 [==============================] - 23s 15ms/step - loss: 0.0035 - accuracy: 1.0000\n",
      "Epoch 143/150\n",
      "1563/1563 [==============================] - 22s 14ms/step - loss: 0.0034 - accuracy: 1.0000\n",
      "Epoch 144/150\n",
      "1563/1563 [==============================] - 23s 15ms/step - loss: 0.0033 - accuracy: 1.0000\n",
      "Epoch 145/150\n",
      "1563/1563 [==============================] - 25s 16ms/step - loss: 0.0033 - accuracy: 1.0000\n",
      "Epoch 146/150\n",
      "1563/1563 [==============================] - 23s 15ms/step - loss: 0.0033 - accuracy: 1.0000\n",
      "Epoch 147/150\n",
      "1563/1563 [==============================] - 28s 18ms/step - loss: 0.0032 - accuracy: 1.0000\n",
      "Epoch 148/150\n",
      "1563/1563 [==============================] - 23s 15ms/step - loss: 0.0031 - accuracy: 1.0000\n",
      "Epoch 149/150\n",
      "1563/1563 [==============================] - 23s 15ms/step - loss: 0.0031 - accuracy: 1.0000\n",
      "Epoch 150/150\n",
      "1563/1563 [==============================] - 23s 15ms/step - loss: 0.0030 - accuracy: 1.0000\n"
     ]
    },
    {
     "data": {
      "text/plain": [
       "<keras.callbacks.History at 0x325eb1f40>"
      ]
     },
     "execution_count": 191,
     "metadata": {},
     "output_type": "execute_result"
    }
   ],
   "source": [
    "ann.fit(X_trainRGB, y_train, epochs=150)"
   ]
  },
  {
   "cell_type": "code",
   "execution_count": 194,
   "id": "7f92cd01",
   "metadata": {},
   "outputs": [
    {
     "name": "stdout",
     "output_type": "stream",
     "text": [
      "              precision    recall  f1-score   support\n",
      "\n",
      "           0       0.67      0.69      0.68      1000\n",
      "           1       0.69      0.68      0.68      1000\n",
      "           2       0.48      0.47      0.47      1000\n",
      "           3       0.42      0.39      0.40      1000\n",
      "           4       0.51      0.51      0.51      1000\n",
      "           5       0.48      0.51      0.49      1000\n",
      "           6       0.62      0.64      0.63      1000\n",
      "           7       0.66      0.63      0.65      1000\n",
      "           8       0.68      0.73      0.71      1000\n",
      "           9       0.64      0.62      0.63      1000\n",
      "\n",
      "    accuracy                           0.59     10000\n",
      "   macro avg       0.58      0.59      0.59     10000\n",
      "weighted avg       0.58      0.59      0.59     10000\n",
      "\n"
     ]
    }
   ],
   "source": [
    "y_pred = ann.predict(X_testRGB)\n",
    "y_pred_classes = [np.argmax(element) for element in y_pred]\n",
    "\n",
    "print(classification_report(y_test, y_pred_classes))"
   ]
  },
  {
   "cell_type": "markdown",
   "id": "962b8b29",
   "metadata": {},
   "source": [
    "Как видим из отчета, точность классификации составляет 50%, что уже неплохо"
   ]
  },
  {
   "cell_type": "code",
   "execution_count": 193,
   "id": "4c546702",
   "metadata": {},
   "outputs": [
    {
     "name": "stdout",
     "output_type": "stream",
     "text": [
      "[[686  22  50  16  29  21  19  12 102  43]\n",
      " [ 35 676  23  23  10  12  12  14  69 126]\n",
      " [ 64  12 468  77 118  83  76  60  20  22]\n",
      " [ 26  20  82 386  62 207 109  49  19  40]\n",
      " [ 43   9 131  55 511  64  83  65  24  15]\n",
      " [ 15   7  73 172  78 508  49  57  22  19]\n",
      " [  9  18  71  90  78  55 638  13  13  15]\n",
      " [ 32   8  48  47  77  83  15 632  13  45]\n",
      " [ 89  55  20  22  22  11   5  12 734  30]\n",
      " [ 32 152  14  28  12  20  22  39  59 622]]\n"
     ]
    }
   ],
   "source": [
    "print(confusion_matrix(y_test, y_pred_classes))"
   ]
  },
  {
   "cell_type": "code",
   "execution_count": null,
   "id": "dfeed3ee",
   "metadata": {},
   "outputs": [],
   "source": []
  },
  {
   "cell_type": "markdown",
   "id": "2c2047c0",
   "metadata": {},
   "source": [
    "#### Строим cвёрточную нейронную сеть (CNN)"
   ]
  },
  {
   "cell_type": "code",
   "execution_count": 156,
   "id": "7e9cde06",
   "metadata": {},
   "outputs": [],
   "source": [
    "cnn = models.Sequential([\n",
    "    layers.Conv2D(filters=32, kernel_size=(3, 3), activation='relu', input_shape=(32, 32, 3)),\n",
    "    layers.MaxPooling2D((2, 2)),\n",
    "    \n",
    "    layers.Conv2D(filters=64, kernel_size=(3, 3), activation='relu'),\n",
    "    layers.MaxPooling2D((2, 2)),\n",
    "    \n",
    "    layers.Flatten(),\n",
    "    layers.Dense(64, activation='relu'),\n",
    "    layers.Dense(10, activation='softmax')\n",
    "])"
   ]
  },
  {
   "cell_type": "code",
   "execution_count": 157,
   "id": "e686e8a9",
   "metadata": {},
   "outputs": [
    {
     "data": {
      "image/png": "[encoded data removed]",
      "text/plain": [
       "<PIL.Image.Image image mode=RGBA size=454x196 at 0x15972BD60>"
      ]
     },
     "execution_count": 157,
     "metadata": {},
     "output_type": "execute_result"
    }
   ],
   "source": [
    "visualkeras.layered_view(cnn, legend=True) "
   ]
  },
  {
   "cell_type": "code",
   "execution_count": 158,
   "id": "dc960936",
   "metadata": {},
   "outputs": [
    {
     "name": "stdout",
     "output_type": "stream",
     "text": [
      "Model: \"sequential_16\"\n",
      "_________________________________________________________________\n",
      " Layer (type)                Output Shape              Param #   \n",
      "=================================================================\n",
      " conv2d_30 (Conv2D)          (None, 30, 30, 32)        896       \n",
      "                                                                 \n",
      " max_pooling2d_30 (MaxPoolin  (None, 15, 15, 32)       0         \n",
      " g2D)                                                            \n",
      "                                                                 \n",
      " conv2d_31 (Conv2D)          (None, 13, 13, 64)        18496     \n",
      "                                                                 \n",
      " max_pooling2d_31 (MaxPoolin  (None, 6, 6, 64)         0         \n",
      " g2D)                                                            \n",
      "                                                                 \n",
      " flatten_16 (Flatten)        (None, 2304)              0         \n",
      "                                                                 \n",
      " dense_33 (Dense)            (None, 64)                147520    \n",
      "                                                                 \n",
      " dense_34 (Dense)            (None, 10)                650       \n",
      "                                                                 \n",
      "=================================================================\n",
      "Total params: 167,562\n",
      "Trainable params: 167,562\n",
      "Non-trainable params: 0\n",
      "_________________________________________________________________\n"
     ]
    }
   ],
   "source": [
    "cnn.summary()"
   ]
  },
  {
   "cell_type": "code",
   "execution_count": 159,
   "id": "6ab4c0a8",
   "metadata": {},
   "outputs": [],
   "source": [
    "cnn.compile(optimizer='adam',\n",
    "              loss='sparse_categorical_crossentropy',\n",
    "              metrics=['accuracy'])"
   ]
  },
  {
   "cell_type": "code",
   "execution_count": 160,
   "id": "c7cee3b7",
   "metadata": {},
   "outputs": [
    {
     "name": "stdout",
     "output_type": "stream",
     "text": [
      "Epoch 1/11\n"
     ]
    },
    {
     "name": "stderr",
     "output_type": "stream",
     "text": [
      "2022-04-06 13:28:40.779425: I tensorflow/core/grappler/optimizers/custom_graph_optimizer_registry.cc:113] Plugin optimizer for device_type GPU is enabled.\n"
     ]
    },
    {
     "name": "stdout",
     "output_type": "stream",
     "text": [
      "1563/1563 [==============================] - 19s 11ms/step - loss: 1.4645 - accuracy: 0.4737\n",
      "Epoch 2/11\n",
      "1563/1563 [==============================] - 17s 11ms/step - loss: 1.1065 - accuracy: 0.6130\n",
      "Epoch 3/11\n",
      "1563/1563 [==============================] - 17s 11ms/step - loss: 0.9855 - accuracy: 0.6574\n",
      "Epoch 4/11\n",
      "1563/1563 [==============================] - 16s 10ms/step - loss: 0.8970 - accuracy: 0.6872\n",
      "Epoch 5/11\n",
      "1563/1563 [==============================] - 17s 11ms/step - loss: 0.8275 - accuracy: 0.7124\n",
      "Epoch 6/11\n",
      "1563/1563 [==============================] - 17s 11ms/step - loss: 0.7675 - accuracy: 0.7322\n",
      "Epoch 7/11\n",
      "1563/1563 [==============================] - 16s 10ms/step - loss: 0.7130 - accuracy: 0.7510\n",
      "Epoch 8/11\n",
      "1563/1563 [==============================] - 16s 10ms/step - loss: 0.6650 - accuracy: 0.7663\n",
      "Epoch 9/11\n",
      "1563/1563 [==============================] - 16s 10ms/step - loss: 0.6214 - accuracy: 0.7815\n",
      "Epoch 10/11\n",
      "1563/1563 [==============================] - 16s 10ms/step - loss: 0.5788 - accuracy: 0.7977\n",
      "Epoch 11/11\n",
      "1563/1563 [==============================] - 16s 10ms/step - loss: 0.5430 - accuracy: 0.8080\n"
     ]
    },
    {
     "data": {
      "text/plain": [
       "<keras.callbacks.History at 0x15974c610>"
      ]
     },
     "execution_count": 160,
     "metadata": {},
     "output_type": "execute_result"
    }
   ],
   "source": [
    "cnn.fit(X_trainRGB, y_train, epochs=11)"
   ]
  },
  {
   "cell_type": "code",
   "execution_count": 161,
   "id": "12c019d1",
   "metadata": {},
   "outputs": [
    {
     "name": "stderr",
     "output_type": "stream",
     "text": [
      "2022-04-06 13:31:44.209102: I tensorflow/core/grappler/optimizers/custom_graph_optimizer_registry.cc:113] Plugin optimizer for device_type GPU is enabled.\n"
     ]
    },
    {
     "name": "stdout",
     "output_type": "stream",
     "text": [
      "              precision    recall  f1-score   support\n",
      "\n",
      "           0       0.72      0.76      0.74      1000\n",
      "           1       0.77      0.86      0.81      1000\n",
      "           2       0.62      0.58      0.60      1000\n",
      "           3       0.52      0.49      0.51      1000\n",
      "           4       0.70      0.61      0.65      1000\n",
      "           5       0.66      0.56      0.61      1000\n",
      "           6       0.73      0.83      0.78      1000\n",
      "           7       0.77      0.72      0.75      1000\n",
      "           8       0.74      0.85      0.79      1000\n",
      "           9       0.79      0.78      0.79      1000\n",
      "\n",
      "    accuracy                           0.71     10000\n",
      "   macro avg       0.70      0.71      0.70     10000\n",
      "weighted avg       0.70      0.71      0.70     10000\n",
      "\n"
     ]
    }
   ],
   "source": [
    "y_pred = cnn.predict(X_testRGB)\n",
    "y_pred_classes = [np.argmax(element) for element in y_pred]\n",
    "\n",
    "print(classification_report(y_test, y_pred_classes))"
   ]
  },
  {
   "cell_type": "code",
   "execution_count": 155,
   "id": "20f49c11",
   "metadata": {},
   "outputs": [
    {
     "name": "stdout",
     "output_type": "stream",
     "text": [
      "[[719  25  44  26  21  12   9  20  90  34]\n",
      " [ 21 815   8  22   5   5  10   4  30  80]\n",
      " [ 67   6 576 103  68  68  38  50  14  10]\n",
      " [ 22   7  63 605  43 140  31  47  20  22]\n",
      " [ 22   4  73 113 589  62  22  99  14   2]\n",
      " [ 14   6  45 212  30 609  13  60   5   6]\n",
      " [  4   5  56 139  42  32 697  10   9   6]\n",
      " [ 15   4  29  40  49  78   2 760   6  17]\n",
      " [ 61  34  14  23   5  10   3   8 818  24]\n",
      " [ 13  92   9  26   7   8   1  27  47 770]]\n"
     ]
    }
   ],
   "source": [
    "print(confusion_matrix(y_test, y_pred_classes))"
   ]
  },
  {
   "cell_type": "markdown",
   "id": "b198f244",
   "metadata": {},
   "source": [
    "## Смотрим на результаты"
   ]
  },
  {
   "cell_type": "code",
   "execution_count": 47,
   "id": "d537cf92",
   "metadata": {},
   "outputs": [],
   "source": [
    "classes = [\"airplane\",\"automobile\",\"bird\",\"cat\",\"deer\",\"dog\",\"frog\",\"horse\",\"ship\",\"truck\"]"
   ]
  },
  {
   "cell_type": "code",
   "execution_count": 48,
   "id": "6b2d0c9b",
   "metadata": {},
   "outputs": [],
   "source": [
    "def plot_sample(x_images, y_test, y_model_pred, index):\n",
    "    \n",
    "\n",
    "    plt.figure(figsize = (32,2))\n",
    "    plt.imshow(x_images[index])\n",
    "\n",
    "    plt.title(classes[y_test[index]],fontsize=14)\n",
    "    plt.xlabel(f\"Модель думает это {classes[y_model_pred[index]]}\",fontsize=14)"
   ]
  },
  {
   "cell_type": "code",
   "execution_count": 49,
   "id": "70318bbb",
   "metadata": {},
   "outputs": [
    {
     "data": {
      "text/plain": [
       "(10000,)"
      ]
     },
     "execution_count": 49,
     "metadata": {},
     "output_type": "execute_result"
    }
   ],
   "source": [
    "y_test.shape"
   ]
  },
  {
   "cell_type": "code",
   "execution_count": 50,
   "id": "3d677d49",
   "metadata": {},
   "outputs": [
    {
     "data": {
      "text/plain": [
       "(10000,)"
      ]
     },
     "execution_count": 50,
     "metadata": {},
     "output_type": "execute_result"
    }
   ],
   "source": [
    "y_pred_classes = np.array(y_pred_classes)\n",
    "y_pred_classes.shape"
   ]
  },
  {
   "cell_type": "markdown",
   "id": "660685d5",
   "metadata": {},
   "source": [
    "Индексы тех изображений, которые определились неправильно"
   ]
  },
  {
   "cell_type": "code",
   "execution_count": 51,
   "id": "f2e685dd",
   "metadata": {},
   "outputs": [
    {
     "data": {
      "text/plain": [
       "(3487,)"
      ]
     },
     "execution_count": 51,
     "metadata": {},
     "output_type": "execute_result"
    }
   ],
   "source": [
    "false_detection_indexes = np.where(y_pred_classes-y_test != 0)[0]\n",
    "false_detection_indexes.shape"
   ]
  },
  {
   "cell_type": "code",
   "execution_count": 52,
   "id": "22774a38",
   "metadata": {},
   "outputs": [
    {
     "data": {
      "image/png": "[encoded data removed]",
      "text/plain": [
       "<Figure size 2304x144 with 1 Axes>"
      ]
     },
     "metadata": {
      "needs_background": "light"
     },
     "output_type": "display_data"
    },
    {
     "data": {
      "image/png": "[encoded data removed]",
      "text/plain": [
       "<Figure size 2304x144 with 1 Axes>"
      ]
     },
     "metadata": {
      "needs_background": "light"
     },
     "output_type": "display_data"
    },
    {
     "data": {
      "image/png": "[encoded data removed]",
      "text/plain": [
       "<Figure size 2304x144 with 1 Axes>"
      ]
     },
     "metadata": {
      "needs_background": "light"
     },
     "output_type": "display_data"
    },
    {
     "data": {
      "image/png": "[encoded data removed]",
      "text/plain": [
       "<Figure size 2304x144 with 1 Axes>"
      ]
     },
     "metadata": {
      "needs_background": "light"
     },
     "output_type": "display_data"
    },
    {
     "data": {
      "image/png": "[encoded data removed]",
      "text/plain": [
       "<Figure size 2304x144 with 1 Axes>"
      ]
     },
     "metadata": {
      "needs_background": "light"
     },
     "output_type": "display_data"
    }
   ],
   "source": [
    "for index in false_detection_indexes[:5]:\n",
    "    plot_sample(X_testRGB, y_test, y_pred_classes, index)"
   ]
  },
  {
   "cell_type": "code",
   "execution_count": 53,
   "id": "28184a0a",
   "metadata": {},
   "outputs": [
    {
     "data": {
      "text/plain": [
       "(6513,)"
      ]
     },
     "execution_count": 53,
     "metadata": {},
     "output_type": "execute_result"
    }
   ],
   "source": [
    "true_detection_indexes = np.where(y_pred_classes-y_test == 0)[0]\n",
    "true_detection_indexes.shape"
   ]
  },
  {
   "cell_type": "code",
   "execution_count": 54,
   "id": "875abc14",
   "metadata": {},
   "outputs": [
    {
     "data": {
      "image/png": "[encoded data removed]",
      "text/plain": [
       "<Figure size 2304x144 with 1 Axes>"
      ]
     },
     "metadata": {
      "needs_background": "light"
     },
     "output_type": "display_data"
    },
    {
     "data": {
      "image/png": "[encoded data removed]",
      "text/plain": [
       "<Figure size 2304x144 with 1 Axes>"
      ]
     },
     "metadata": {
      "needs_background": "light"
     },
     "output_type": "display_data"
    },
    {
     "data": {
      "image/png": "[encoded data removed]",
      "text/plain": [
       "<Figure size 2304x144 with 1 Axes>"
      ]
     },
     "metadata": {
      "needs_background": "light"
     },
     "output_type": "display_data"
    },
    {
     "data": {
      "image/png": "[encoded data removed]",
      "text/plain": [
       "<Figure size 2304x144 with 1 Axes>"
      ]
     },
     "metadata": {
      "needs_background": "light"
     },
     "output_type": "display_data"
    },
    {
     "data": {
      "image/png": "[encoded data removed]",
      "text/plain": [
       "<Figure size 2304x144 with 1 Axes>"
      ]
     },
     "metadata": {
      "needs_background": "light"
     },
     "output_type": "display_data"
    }
   ],
   "source": [
    "for index in true_detection_indexes[:5]:\n",
    "    plot_sample(X_testRGB, y_test, y_pred_classes, index)"
   ]
  },
  {
   "cell_type": "code",
   "execution_count": null,
   "id": "7b4c90af",
   "metadata": {},
   "outputs": [],
   "source": []
  },
  {
   "cell_type": "code",
   "execution_count": null,
   "id": "cf759298",
   "metadata": {},
   "outputs": [],
   "source": []
  },
  {
   "cell_type": "code",
   "execution_count": null,
   "id": "7b428158",
   "metadata": {},
   "outputs": [],
   "source": []
  }
 ],
 "metadata": {
  "kernelspec": {
   "display_name": "Python 3 (ipykernel)",
   "language": "python",
   "name": "python3"
  },
  "language_info": {
   "codemirror_mode": {
    "name": "ipython",
    "version": 3
   },
   "file_extension": ".py",
   "mimetype": "text/x-python",
   "name": "python",
   "nbconvert_exporter": "python",
   "pygments_lexer": "ipython3",
   "version": "3.9.10"
  }
 },
 "nbformat": 4,
 "nbformat_minor": 5
}
