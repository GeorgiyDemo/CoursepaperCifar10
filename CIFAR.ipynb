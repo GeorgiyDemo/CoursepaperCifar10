{
 "cells": [
  {
   "cell_type": "markdown",
   "id": "3cc06be4",
   "metadata": {},
   "source": [
    "# Работа с датасетом CIFAR-10"
   ]
  },
  {
   "cell_type": "code",
   "execution_count": 1,
   "id": "4efbc9bd",
   "metadata": {},
   "outputs": [],
   "source": [
    "#Импортируем необходимые библиотеки для работы\n",
    "import tensorflow as tf\n",
    "from tensorflow.keras import datasets, layers, models\n",
    "from sklearn.metrics import confusion_matrix , classification_report\n",
    "import matplotlib.pyplot as plt\n",
    "import pandas as pd\n",
    "import numpy as np\n",
    "import cv2\n",
    "\n",
    "import time\n",
    "from sklearn import metrics\n",
    "\n",
    "from cf_matrix import make_confusion_matrix"
   ]
  },
  {
   "cell_type": "code",
   "execution_count": 2,
   "id": "feed2ba8",
   "metadata": {},
   "outputs": [],
   "source": [
    "#Получаем матрицы с датасета cifar10\n",
    "(X_trainRGB, y_train), (X_testRGB, y_test) = datasets.cifar10.load_data()"
   ]
  },
  {
   "cell_type": "markdown",
   "id": "24680cbf",
   "metadata": {},
   "source": [
    "## Предварительный анализ данных"
   ]
  },
  {
   "cell_type": "markdown",
   "id": "77a3ea9f",
   "metadata": {},
   "source": [
    "Смотрим распределение данных по классам тестовой выборки"
   ]
  },
  {
   "cell_type": "code",
   "execution_count": 3,
   "id": "fbe1d880",
   "metadata": {},
   "outputs": [
    {
     "data": {
      "text/plain": [
       "array([3, 8, 8, ..., 5, 1, 7], dtype=uint8)"
      ]
     },
     "execution_count": 3,
     "metadata": {},
     "output_type": "execute_result"
    }
   ],
   "source": [
    "test_class_arr = y_test.reshape(-1)\n",
    "test_class_arr"
   ]
  },
  {
   "cell_type": "code",
   "execution_count": 4,
   "id": "86a2732f",
   "metadata": {},
   "outputs": [
    {
     "data": {
      "text/plain": [
       "array([   1,    2,    3, ..., 9997, 9998, 9999])"
      ]
     },
     "execution_count": 4,
     "metadata": {},
     "output_type": "execute_result"
    }
   ],
   "source": [
    "test_index_arr = np.array(range(1,test_class_arr.shape[0]))\n",
    "test_index_arr"
   ]
  },
  {
   "cell_type": "code",
   "execution_count": 5,
   "id": "5a6a4adc",
   "metadata": {},
   "outputs": [
    {
     "data": {
      "image/png": "[encoded data removed]",
      "text/plain": [
       "<Figure size 432x288 with 1 Axes>"
      ]
     },
     "metadata": {
      "needs_background": "light"
     },
     "output_type": "display_data"
    }
   ],
   "source": [
    "df_test = pd.DataFrame(list(zip(test_index_arr, test_class_arr)), columns =['index', 'class'])\n",
    "df_test.groupby(\"class\")[\"index\"].count().plot(kind=\"bar\")\n",
    "plt.savefig('./img/test.png', bbox_inches='tight')"
   ]
  },
  {
   "cell_type": "code",
   "execution_count": 6,
   "id": "fd60c757",
   "metadata": {},
   "outputs": [
    {
     "data": {
      "text/plain": [
       "(9999, 2)"
      ]
     },
     "execution_count": 6,
     "metadata": {},
     "output_type": "execute_result"
    }
   ],
   "source": [
    "df_test.shape"
   ]
  },
  {
   "cell_type": "markdown",
   "id": "80b647d1",
   "metadata": {},
   "source": [
    "Смотрим распределение данных по классам тренировочной выборки"
   ]
  },
  {
   "cell_type": "code",
   "execution_count": 7,
   "id": "b0752108",
   "metadata": {},
   "outputs": [
    {
     "data": {
      "text/plain": [
       "array([6, 9, 9, ..., 9, 1, 1], dtype=uint8)"
      ]
     },
     "execution_count": 7,
     "metadata": {},
     "output_type": "execute_result"
    }
   ],
   "source": [
    "train_class_arr = y_train.reshape(-1)\n",
    "train_class_arr"
   ]
  },
  {
   "cell_type": "code",
   "execution_count": 8,
   "id": "9e12c6ac",
   "metadata": {},
   "outputs": [
    {
     "data": {
      "text/plain": [
       "array([    1,     2,     3, ..., 49997, 49998, 49999])"
      ]
     },
     "execution_count": 8,
     "metadata": {},
     "output_type": "execute_result"
    }
   ],
   "source": [
    "train_index_arr = np.array(range(1,train_class_arr.shape[0]))\n",
    "train_index_arr"
   ]
  },
  {
   "cell_type": "code",
   "execution_count": 9,
   "id": "9b031dd0",
   "metadata": {},
   "outputs": [
    {
     "data": {
      "image/png": "[encoded data removed]",
      "text/plain": [
       "<Figure size 432x288 with 1 Axes>"
      ]
     },
     "metadata": {
      "needs_background": "light"
     },
     "output_type": "display_data"
    }
   ],
   "source": [
    "df_train = pd.DataFrame(list(zip(train_index_arr, train_class_arr)), columns =['index', 'class'])\n",
    "df_train.groupby(\"class\")[\"index\"].count().plot(kind=\"bar\")\n",
    "plt.savefig('./img/train.png', bbox_inches='tight')"
   ]
  },
  {
   "cell_type": "code",
   "execution_count": 10,
   "id": "7ea4327f",
   "metadata": {},
   "outputs": [
    {
     "data": {
      "text/plain": [
       "(49999, 2)"
      ]
     },
     "execution_count": 10,
     "metadata": {},
     "output_type": "execute_result"
    }
   ],
   "source": [
    "df_train.shape"
   ]
  },
  {
   "cell_type": "markdown",
   "id": "f98cbcdb",
   "metadata": {},
   "source": [
    "Классы максимально возможно сбалансированы между собой"
   ]
  },
  {
   "cell_type": "markdown",
   "id": "dd172bf7",
   "metadata": {},
   "source": [
    "## Препроцессинг данных"
   ]
  },
  {
   "cell_type": "code",
   "execution_count": 11,
   "id": "1f219a1d",
   "metadata": {},
   "outputs": [
    {
     "data": {
      "text/plain": [
       "array([[[[ 59,  62,  63],\n",
       "         [ 43,  46,  45],\n",
       "         [ 50,  48,  43],\n",
       "         ...,\n",
       "         [158, 132, 108],\n",
       "         [152, 125, 102],\n",
       "         [148, 124, 103]],\n",
       "\n",
       "        [[ 16,  20,  20],\n",
       "         [  0,   0,   0],\n",
       "         [ 18,   8,   0],\n",
       "         ...,\n",
       "         [123,  88,  55],\n",
       "         [119,  83,  50],\n",
       "         [122,  87,  57]],\n",
       "\n",
       "        [[ 25,  24,  21],\n",
       "         [ 16,   7,   0],\n",
       "         [ 49,  27,   8],\n",
       "         ...,\n",
       "         [118,  84,  50],\n",
       "         [120,  84,  50],\n",
       "         [109,  73,  42]],\n",
       "\n",
       "        ...,\n",
       "\n",
       "        [[208, 170,  96],\n",
       "         [201, 153,  34],\n",
       "         [198, 161,  26],\n",
       "         ...,\n",
       "         [160, 133,  70],\n",
       "         [ 56,  31,   7],\n",
       "         [ 53,  34,  20]],\n",
       "\n",
       "        [[180, 139,  96],\n",
       "         [173, 123,  42],\n",
       "         [186, 144,  30],\n",
       "         ...,\n",
       "         [184, 148,  94],\n",
       "         [ 97,  62,  34],\n",
       "         [ 83,  53,  34]],\n",
       "\n",
       "        [[177, 144, 116],\n",
       "         [168, 129,  94],\n",
       "         [179, 142,  87],\n",
       "         ...,\n",
       "         [216, 184, 140],\n",
       "         [151, 118,  84],\n",
       "         [123,  92,  72]]],\n",
       "\n",
       "\n",
       "       [[[154, 177, 187],\n",
       "         [126, 137, 136],\n",
       "         [105, 104,  95],\n",
       "         ...,\n",
       "         [ 91,  95,  71],\n",
       "         [ 87,  90,  71],\n",
       "         [ 79,  81,  70]],\n",
       "\n",
       "        [[140, 160, 169],\n",
       "         [145, 153, 154],\n",
       "         [125, 125, 118],\n",
       "         ...,\n",
       "         [ 96,  99,  78],\n",
       "         [ 77,  80,  62],\n",
       "         [ 71,  73,  61]],\n",
       "\n",
       "        [[140, 155, 164],\n",
       "         [139, 146, 149],\n",
       "         [115, 115, 112],\n",
       "         ...,\n",
       "         [ 79,  82,  64],\n",
       "         [ 68,  70,  55],\n",
       "         [ 67,  69,  55]],\n",
       "\n",
       "        ...,\n",
       "\n",
       "        [[175, 167, 166],\n",
       "         [156, 154, 160],\n",
       "         [154, 160, 170],\n",
       "         ...,\n",
       "         [ 42,  34,  36],\n",
       "         [ 61,  53,  57],\n",
       "         [ 93,  83,  91]],\n",
       "\n",
       "        [[165, 154, 128],\n",
       "         [156, 152, 130],\n",
       "         [159, 161, 142],\n",
       "         ...,\n",
       "         [103,  93,  96],\n",
       "         [123, 114, 120],\n",
       "         [131, 121, 131]],\n",
       "\n",
       "        [[163, 148, 120],\n",
       "         [158, 148, 122],\n",
       "         [163, 156, 133],\n",
       "         ...,\n",
       "         [143, 133, 139],\n",
       "         [143, 134, 142],\n",
       "         [143, 133, 144]]],\n",
       "\n",
       "\n",
       "       [[[255, 255, 255],\n",
       "         [253, 253, 253],\n",
       "         [253, 253, 253],\n",
       "         ...,\n",
       "         [253, 253, 253],\n",
       "         [253, 253, 253],\n",
       "         [253, 253, 253]],\n",
       "\n",
       "        [[255, 255, 255],\n",
       "         [255, 255, 255],\n",
       "         [255, 255, 255],\n",
       "         ...,\n",
       "         [255, 255, 255],\n",
       "         [255, 255, 255],\n",
       "         [255, 255, 255]],\n",
       "\n",
       "        [[255, 255, 255],\n",
       "         [254, 254, 254],\n",
       "         [254, 254, 254],\n",
       "         ...,\n",
       "         [254, 254, 254],\n",
       "         [254, 254, 254],\n",
       "         [254, 254, 254]],\n",
       "\n",
       "        ...,\n",
       "\n",
       "        [[113, 120, 112],\n",
       "         [111, 118, 111],\n",
       "         [105, 112, 106],\n",
       "         ...,\n",
       "         [ 72,  81,  80],\n",
       "         [ 72,  80,  79],\n",
       "         [ 72,  80,  79]],\n",
       "\n",
       "        [[111, 118, 110],\n",
       "         [104, 111, 104],\n",
       "         [ 99, 106,  98],\n",
       "         ...,\n",
       "         [ 68,  75,  73],\n",
       "         [ 70,  76,  75],\n",
       "         [ 78,  84,  82]],\n",
       "\n",
       "        [[106, 113, 105],\n",
       "         [ 99, 106,  98],\n",
       "         [ 95, 102,  94],\n",
       "         ...,\n",
       "         [ 78,  85,  83],\n",
       "         [ 79,  85,  83],\n",
       "         [ 80,  86,  84]]],\n",
       "\n",
       "\n",
       "       ...,\n",
       "\n",
       "\n",
       "       [[[ 35, 178, 235],\n",
       "         [ 40, 176, 239],\n",
       "         [ 42, 176, 241],\n",
       "         ...,\n",
       "         [ 99, 177, 219],\n",
       "         [ 79, 147, 197],\n",
       "         [ 89, 148, 189]],\n",
       "\n",
       "        [[ 57, 182, 234],\n",
       "         [ 44, 184, 250],\n",
       "         [ 50, 183, 240],\n",
       "         ...,\n",
       "         [156, 182, 200],\n",
       "         [141, 177, 206],\n",
       "         [116, 149, 175]],\n",
       "\n",
       "        [[ 98, 197, 237],\n",
       "         [ 64, 189, 252],\n",
       "         [ 69, 192, 245],\n",
       "         ...,\n",
       "         [188, 195, 206],\n",
       "         [119, 135, 147],\n",
       "         [ 61,  79,  90]],\n",
       "\n",
       "        ...,\n",
       "\n",
       "        [[ 73,  79,  77],\n",
       "         [ 53,  63,  68],\n",
       "         [ 54,  68,  80],\n",
       "         ...,\n",
       "         [ 17,  40,  64],\n",
       "         [ 21,  36,  51],\n",
       "         [ 33,  48,  49]],\n",
       "\n",
       "        [[ 61,  68,  75],\n",
       "         [ 55,  70,  86],\n",
       "         [ 57,  79, 103],\n",
       "         ...,\n",
       "         [ 24,  48,  72],\n",
       "         [ 17,  35,  53],\n",
       "         [  7,  23,  32]],\n",
       "\n",
       "        [[ 44,  56,  73],\n",
       "         [ 46,  66,  88],\n",
       "         [ 49,  77, 105],\n",
       "         ...,\n",
       "         [ 27,  52,  77],\n",
       "         [ 21,  43,  66],\n",
       "         [ 12,  31,  50]]],\n",
       "\n",
       "\n",
       "       [[[189, 211, 240],\n",
       "         [186, 208, 236],\n",
       "         [185, 207, 235],\n",
       "         ...,\n",
       "         [175, 195, 224],\n",
       "         [172, 194, 222],\n",
       "         [169, 194, 220]],\n",
       "\n",
       "        [[194, 210, 239],\n",
       "         [191, 207, 236],\n",
       "         [190, 206, 235],\n",
       "         ...,\n",
       "         [173, 192, 220],\n",
       "         [171, 191, 218],\n",
       "         [167, 190, 216]],\n",
       "\n",
       "        [[208, 219, 244],\n",
       "         [205, 216, 240],\n",
       "         [204, 215, 239],\n",
       "         ...,\n",
       "         [175, 191, 217],\n",
       "         [172, 190, 216],\n",
       "         [169, 191, 215]],\n",
       "\n",
       "        ...,\n",
       "\n",
       "        [[207, 199, 181],\n",
       "         [203, 195, 175],\n",
       "         [203, 196, 173],\n",
       "         ...,\n",
       "         [135, 132, 127],\n",
       "         [162, 158, 150],\n",
       "         [168, 163, 151]],\n",
       "\n",
       "        [[198, 190, 170],\n",
       "         [189, 181, 159],\n",
       "         [180, 172, 147],\n",
       "         ...,\n",
       "         [178, 171, 160],\n",
       "         [175, 169, 156],\n",
       "         [175, 169, 154]],\n",
       "\n",
       "        [[198, 189, 173],\n",
       "         [189, 181, 162],\n",
       "         [178, 170, 149],\n",
       "         ...,\n",
       "         [195, 184, 169],\n",
       "         [196, 189, 171],\n",
       "         [195, 190, 171]]],\n",
       "\n",
       "\n",
       "       [[[229, 229, 239],\n",
       "         [236, 237, 247],\n",
       "         [234, 236, 247],\n",
       "         ...,\n",
       "         [217, 219, 233],\n",
       "         [221, 223, 234],\n",
       "         [222, 223, 233]],\n",
       "\n",
       "        [[222, 221, 229],\n",
       "         [239, 239, 249],\n",
       "         [233, 234, 246],\n",
       "         ...,\n",
       "         [223, 223, 236],\n",
       "         [227, 228, 238],\n",
       "         [210, 211, 220]],\n",
       "\n",
       "        [[213, 206, 211],\n",
       "         [234, 232, 239],\n",
       "         [231, 233, 244],\n",
       "         ...,\n",
       "         [220, 220, 232],\n",
       "         [220, 219, 232],\n",
       "         [202, 203, 215]],\n",
       "\n",
       "        ...,\n",
       "\n",
       "        [[150, 143, 135],\n",
       "         [140, 135, 127],\n",
       "         [132, 127, 120],\n",
       "         ...,\n",
       "         [224, 222, 218],\n",
       "         [230, 228, 225],\n",
       "         [241, 241, 238]],\n",
       "\n",
       "        [[137, 132, 126],\n",
       "         [130, 127, 120],\n",
       "         [125, 121, 115],\n",
       "         ...,\n",
       "         [181, 180, 178],\n",
       "         [202, 201, 198],\n",
       "         [212, 211, 207]],\n",
       "\n",
       "        [[122, 119, 114],\n",
       "         [118, 116, 110],\n",
       "         [120, 116, 111],\n",
       "         ...,\n",
       "         [179, 177, 173],\n",
       "         [164, 164, 162],\n",
       "         [163, 163, 161]]]], dtype=uint8)"
      ]
     },
     "execution_count": 11,
     "metadata": {},
     "output_type": "execute_result"
    }
   ],
   "source": [
    "X_trainRGB"
   ]
  },
  {
   "cell_type": "code",
   "execution_count": 12,
   "id": "e39bd8da",
   "metadata": {},
   "outputs": [
    {
     "data": {
      "text/plain": [
       "array([[6],\n",
       "       [9],\n",
       "       [9],\n",
       "       ...,\n",
       "       [9],\n",
       "       [1],\n",
       "       [1]], dtype=uint8)"
      ]
     },
     "execution_count": 12,
     "metadata": {},
     "output_type": "execute_result"
    }
   ],
   "source": [
    "y_train"
   ]
  },
  {
   "cell_type": "markdown",
   "id": "487e9bd7",
   "metadata": {},
   "source": [
    "#### Переводим классы из двухмерного в одномерный массив"
   ]
  },
  {
   "cell_type": "markdown",
   "id": "29f0afe0",
   "metadata": {},
   "source": [
    "Для тренировочных данных классов"
   ]
  },
  {
   "cell_type": "code",
   "execution_count": 13,
   "id": "8750a666",
   "metadata": {},
   "outputs": [
    {
     "data": {
      "text/plain": [
       "(50000, 1)"
      ]
     },
     "execution_count": 13,
     "metadata": {},
     "output_type": "execute_result"
    }
   ],
   "source": [
    "y_train.shape"
   ]
  },
  {
   "cell_type": "code",
   "execution_count": 14,
   "id": "5ef0994b",
   "metadata": {},
   "outputs": [],
   "source": [
    "y_train = y_train.reshape(-1,)"
   ]
  },
  {
   "cell_type": "code",
   "execution_count": 15,
   "id": "9ca58b3d",
   "metadata": {},
   "outputs": [
    {
     "data": {
      "text/plain": [
       "(50000,)"
      ]
     },
     "execution_count": 15,
     "metadata": {},
     "output_type": "execute_result"
    }
   ],
   "source": [
    "y_train.shape"
   ]
  },
  {
   "cell_type": "markdown",
   "id": "3034c51d",
   "metadata": {},
   "source": [
    "Для тестовых данных классов"
   ]
  },
  {
   "cell_type": "code",
   "execution_count": 16,
   "id": "de08cb00",
   "metadata": {},
   "outputs": [
    {
     "data": {
      "text/plain": [
       "(10000, 1)"
      ]
     },
     "execution_count": 16,
     "metadata": {},
     "output_type": "execute_result"
    }
   ],
   "source": [
    "y_test.shape"
   ]
  },
  {
   "cell_type": "code",
   "execution_count": 17,
   "id": "58b3ff5d",
   "metadata": {},
   "outputs": [],
   "source": [
    "y_test = y_test.reshape(-1,)"
   ]
  },
  {
   "cell_type": "code",
   "execution_count": 18,
   "id": "f8208927",
   "metadata": {},
   "outputs": [
    {
     "data": {
      "text/plain": [
       "(10000,)"
      ]
     },
     "execution_count": 18,
     "metadata": {},
     "output_type": "execute_result"
    }
   ],
   "source": [
    "y_test.shape"
   ]
  },
  {
   "cell_type": "markdown",
   "id": "16cb1ce9",
   "metadata": {},
   "source": [
    "#### Переводим изображения в черно-белые для последующей передачи в sklearn"
   ]
  },
  {
   "cell_type": "code",
   "execution_count": 19,
   "id": "3ba69bff",
   "metadata": {},
   "outputs": [],
   "source": [
    "def show_image(img):\n",
    "    plt.figure(figsize = (32,2))\n",
    "    plt.imshow(img)"
   ]
  },
  {
   "cell_type": "markdown",
   "id": "60425b6d",
   "metadata": {},
   "source": [
    "Работаем с x_train"
   ]
  },
  {
   "cell_type": "code",
   "execution_count": 20,
   "id": "1354030d",
   "metadata": {},
   "outputs": [
    {
     "data": {
      "text/plain": [
       "(50000, 32, 32, 3)"
      ]
     },
     "execution_count": 20,
     "metadata": {},
     "output_type": "execute_result"
    }
   ],
   "source": [
    "X_trainRGB.shape"
   ]
  },
  {
   "cell_type": "code",
   "execution_count": 21,
   "id": "64abd866",
   "metadata": {},
   "outputs": [
    {
     "data": {
      "image/png": "[encoded data removed]",
      "text/plain": [
       "<Figure size 2304x144 with 1 Axes>"
      ]
     },
     "metadata": {
      "needs_background": "light"
     },
     "output_type": "display_data"
    }
   ],
   "source": [
    "show_image(X_trainRGB[8])"
   ]
  },
  {
   "cell_type": "code",
   "execution_count": 22,
   "id": "be8148a8",
   "metadata": {},
   "outputs": [],
   "source": [
    "X_train = np.array([cv2.cvtColor(image, cv2.COLOR_BGR2GRAY) for image in X_trainRGB])"
   ]
  },
  {
   "cell_type": "code",
   "execution_count": 23,
   "id": "5b5fb508",
   "metadata": {},
   "outputs": [
    {
     "data": {
      "text/plain": [
       "(50000, 32, 32)"
      ]
     },
     "execution_count": 23,
     "metadata": {},
     "output_type": "execute_result"
    }
   ],
   "source": [
    "X_train.shape"
   ]
  },
  {
   "cell_type": "code",
   "execution_count": 24,
   "id": "05167491",
   "metadata": {},
   "outputs": [
    {
     "data": {
      "image/png": "[encoded data removed]",
      "text/plain": [
       "<Figure size 2304x144 with 1 Axes>"
      ]
     },
     "metadata": {
      "needs_background": "light"
     },
     "output_type": "display_data"
    }
   ],
   "source": [
    "show_image(X_train[8])"
   ]
  },
  {
   "cell_type": "code",
   "execution_count": 25,
   "id": "2b64d45b",
   "metadata": {},
   "outputs": [],
   "source": [
    "X_train = X_train.reshape(X_train.shape[0],X_train.shape[1]*X_train.shape[2])"
   ]
  },
  {
   "cell_type": "code",
   "execution_count": 26,
   "id": "390805f6",
   "metadata": {},
   "outputs": [
    {
     "data": {
      "text/plain": [
       "(50000, 1024)"
      ]
     },
     "execution_count": 26,
     "metadata": {},
     "output_type": "execute_result"
    }
   ],
   "source": [
    "X_train.shape"
   ]
  },
  {
   "cell_type": "markdown",
   "id": "982922e8",
   "metadata": {},
   "source": [
    "Работаем с X_test"
   ]
  },
  {
   "cell_type": "code",
   "execution_count": 27,
   "id": "483af86c",
   "metadata": {},
   "outputs": [
    {
     "data": {
      "text/plain": [
       "(10000, 32, 32, 3)"
      ]
     },
     "execution_count": 27,
     "metadata": {},
     "output_type": "execute_result"
    }
   ],
   "source": [
    "X_testRGB.shape"
   ]
  },
  {
   "cell_type": "code",
   "execution_count": 28,
   "id": "666d85fc",
   "metadata": {},
   "outputs": [
    {
     "data": {
      "image/png": "[encoded data removed]",
      "text/plain": [
       "<Figure size 2304x144 with 1 Axes>"
      ]
     },
     "metadata": {
      "needs_background": "light"
     },
     "output_type": "display_data"
    }
   ],
   "source": [
    "show_image(X_testRGB[8])"
   ]
  },
  {
   "cell_type": "code",
   "execution_count": 29,
   "id": "c202d8f3",
   "metadata": {},
   "outputs": [],
   "source": [
    "X_test = np.array([cv2.cvtColor(image, cv2.COLOR_BGR2GRAY) for image in X_testRGB])"
   ]
  },
  {
   "cell_type": "code",
   "execution_count": 30,
   "id": "8bd8d126",
   "metadata": {},
   "outputs": [
    {
     "data": {
      "text/plain": [
       "(10000, 32, 32)"
      ]
     },
     "execution_count": 30,
     "metadata": {},
     "output_type": "execute_result"
    }
   ],
   "source": [
    "X_test.shape"
   ]
  },
  {
   "cell_type": "code",
   "execution_count": 31,
   "id": "dd6f6a14",
   "metadata": {},
   "outputs": [
    {
     "data": {
      "image/png": "[encoded data removed]",
      "text/plain": [
       "<Figure size 2304x144 with 1 Axes>"
      ]
     },
     "metadata": {
      "needs_background": "light"
     },
     "output_type": "display_data"
    }
   ],
   "source": [
    "show_image(X_test[8])"
   ]
  },
  {
   "cell_type": "code",
   "execution_count": 32,
   "id": "d66145f3",
   "metadata": {},
   "outputs": [],
   "source": [
    "X_test = X_test.reshape(X_test.shape[0],X_test.shape[1]*X_test.shape[2])"
   ]
  },
  {
   "cell_type": "code",
   "execution_count": 33,
   "id": "df67316c",
   "metadata": {},
   "outputs": [
    {
     "data": {
      "text/plain": [
       "(10000, 1024)"
      ]
     },
     "execution_count": 33,
     "metadata": {},
     "output_type": "execute_result"
    }
   ],
   "source": [
    "X_test.shape"
   ]
  },
  {
   "cell_type": "markdown",
   "id": "8416d050",
   "metadata": {},
   "source": [
    "#### Нормализация изображений"
   ]
  },
  {
   "cell_type": "markdown",
   "id": "a0fc8a65",
   "metadata": {},
   "source": [
    "Для чёрно-белых изображений"
   ]
  },
  {
   "cell_type": "code",
   "execution_count": 34,
   "id": "ff6a75e1",
   "metadata": {},
   "outputs": [
    {
     "data": {
      "text/plain": [
       "array([177, 135, 101, ..., 136, 137, 137], dtype=uint8)"
      ]
     },
     "execution_count": 34,
     "metadata": {},
     "output_type": "execute_result"
    }
   ],
   "source": [
    "X_train[1]"
   ]
  },
  {
   "cell_type": "code",
   "execution_count": 35,
   "id": "c15e75eb",
   "metadata": {},
   "outputs": [],
   "source": [
    "X_train  = X_train/255\n",
    "X_test  = X_test/255"
   ]
  },
  {
   "cell_type": "code",
   "execution_count": 36,
   "id": "936012d0",
   "metadata": {},
   "outputs": [
    {
     "data": {
      "text/plain": [
       "array([0.69411765, 0.52941176, 0.39607843, ..., 0.53333333, 0.5372549 ,\n",
       "       0.5372549 ])"
      ]
     },
     "execution_count": 36,
     "metadata": {},
     "output_type": "execute_result"
    }
   ],
   "source": [
    "X_train[1]"
   ]
  },
  {
   "cell_type": "markdown",
   "id": "9d03636c",
   "metadata": {},
   "source": [
    "Для RGB"
   ]
  },
  {
   "cell_type": "code",
   "execution_count": 37,
   "id": "db24e6a0",
   "metadata": {},
   "outputs": [
    {
     "data": {
      "text/plain": [
       "array([[[154, 177, 187],\n",
       "        [126, 137, 136],\n",
       "        [105, 104,  95],\n",
       "        ...,\n",
       "        [ 91,  95,  71],\n",
       "        [ 87,  90,  71],\n",
       "        [ 79,  81,  70]],\n",
       "\n",
       "       [[140, 160, 169],\n",
       "        [145, 153, 154],\n",
       "        [125, 125, 118],\n",
       "        ...,\n",
       "        [ 96,  99,  78],\n",
       "        [ 77,  80,  62],\n",
       "        [ 71,  73,  61]],\n",
       "\n",
       "       [[140, 155, 164],\n",
       "        [139, 146, 149],\n",
       "        [115, 115, 112],\n",
       "        ...,\n",
       "        [ 79,  82,  64],\n",
       "        [ 68,  70,  55],\n",
       "        [ 67,  69,  55]],\n",
       "\n",
       "       ...,\n",
       "\n",
       "       [[175, 167, 166],\n",
       "        [156, 154, 160],\n",
       "        [154, 160, 170],\n",
       "        ...,\n",
       "        [ 42,  34,  36],\n",
       "        [ 61,  53,  57],\n",
       "        [ 93,  83,  91]],\n",
       "\n",
       "       [[165, 154, 128],\n",
       "        [156, 152, 130],\n",
       "        [159, 161, 142],\n",
       "        ...,\n",
       "        [103,  93,  96],\n",
       "        [123, 114, 120],\n",
       "        [131, 121, 131]],\n",
       "\n",
       "       [[163, 148, 120],\n",
       "        [158, 148, 122],\n",
       "        [163, 156, 133],\n",
       "        ...,\n",
       "        [143, 133, 139],\n",
       "        [143, 134, 142],\n",
       "        [143, 133, 144]]], dtype=uint8)"
      ]
     },
     "execution_count": 37,
     "metadata": {},
     "output_type": "execute_result"
    }
   ],
   "source": [
    "X_trainRGB[1]"
   ]
  },
  {
   "cell_type": "code",
   "execution_count": 38,
   "id": "a8fc8fd0",
   "metadata": {},
   "outputs": [],
   "source": [
    "X_trainRGB  = X_trainRGB/255\n",
    "X_testRGB  = X_testRGB/255"
   ]
  },
  {
   "cell_type": "code",
   "execution_count": 39,
   "id": "8a628192",
   "metadata": {},
   "outputs": [
    {
     "data": {
      "text/plain": [
       "array([[[0.60392157, 0.69411765, 0.73333333],\n",
       "        [0.49411765, 0.5372549 , 0.53333333],\n",
       "        [0.41176471, 0.40784314, 0.37254902],\n",
       "        ...,\n",
       "        [0.35686275, 0.37254902, 0.27843137],\n",
       "        [0.34117647, 0.35294118, 0.27843137],\n",
       "        [0.30980392, 0.31764706, 0.2745098 ]],\n",
       "\n",
       "       [[0.54901961, 0.62745098, 0.6627451 ],\n",
       "        [0.56862745, 0.6       , 0.60392157],\n",
       "        [0.49019608, 0.49019608, 0.4627451 ],\n",
       "        ...,\n",
       "        [0.37647059, 0.38823529, 0.30588235],\n",
       "        [0.30196078, 0.31372549, 0.24313725],\n",
       "        [0.27843137, 0.28627451, 0.23921569]],\n",
       "\n",
       "       [[0.54901961, 0.60784314, 0.64313725],\n",
       "        [0.54509804, 0.57254902, 0.58431373],\n",
       "        [0.45098039, 0.45098039, 0.43921569],\n",
       "        ...,\n",
       "        [0.30980392, 0.32156863, 0.25098039],\n",
       "        [0.26666667, 0.2745098 , 0.21568627],\n",
       "        [0.2627451 , 0.27058824, 0.21568627]],\n",
       "\n",
       "       ...,\n",
       "\n",
       "       [[0.68627451, 0.65490196, 0.65098039],\n",
       "        [0.61176471, 0.60392157, 0.62745098],\n",
       "        [0.60392157, 0.62745098, 0.66666667],\n",
       "        ...,\n",
       "        [0.16470588, 0.13333333, 0.14117647],\n",
       "        [0.23921569, 0.20784314, 0.22352941],\n",
       "        [0.36470588, 0.3254902 , 0.35686275]],\n",
       "\n",
       "       [[0.64705882, 0.60392157, 0.50196078],\n",
       "        [0.61176471, 0.59607843, 0.50980392],\n",
       "        [0.62352941, 0.63137255, 0.55686275],\n",
       "        ...,\n",
       "        [0.40392157, 0.36470588, 0.37647059],\n",
       "        [0.48235294, 0.44705882, 0.47058824],\n",
       "        [0.51372549, 0.4745098 , 0.51372549]],\n",
       "\n",
       "       [[0.63921569, 0.58039216, 0.47058824],\n",
       "        [0.61960784, 0.58039216, 0.47843137],\n",
       "        [0.63921569, 0.61176471, 0.52156863],\n",
       "        ...,\n",
       "        [0.56078431, 0.52156863, 0.54509804],\n",
       "        [0.56078431, 0.5254902 , 0.55686275],\n",
       "        [0.56078431, 0.52156863, 0.56470588]]])"
      ]
     },
     "execution_count": 39,
     "metadata": {},
     "output_type": "execute_result"
    }
   ],
   "source": [
    "X_trainRGB[1]"
   ]
  },
  {
   "cell_type": "markdown",
   "id": "83f63e0b",
   "metadata": {},
   "source": [
    "## Работа в sklearn"
   ]
  },
  {
   "cell_type": "markdown",
   "id": "b344c851",
   "metadata": {},
   "source": [
    "Реализация \"классических\" алогритмов с помощью библиотеки sklearn.<br>Обработка матриц проходит только на CPU, так что надо ОЧЕНЬ долго пождождать"
   ]
  },
  {
   "cell_type": "code",
   "execution_count": 40,
   "id": "8f1e47b8",
   "metadata": {},
   "outputs": [
    {
     "name": "stdout",
     "output_type": "stream",
     "text": [
      "              precision    recall  f1-score   support\n",
      "\n",
      "           0       0.50      0.47      0.49      1000\n",
      "           1       0.55      0.54      0.55      1000\n",
      "           2       0.35      0.32      0.33      1000\n",
      "           3       0.33      0.28      0.30      1000\n",
      "           4       0.36      0.44      0.40      1000\n",
      "           5       0.47      0.37      0.42      1000\n",
      "           6       0.44      0.55      0.49      1000\n",
      "           7       0.55      0.47      0.51      1000\n",
      "           8       0.53      0.60      0.56      1000\n",
      "           9       0.51      0.56      0.53      1000\n",
      "\n",
      "    accuracy                           0.46     10000\n",
      "   macro avg       0.46      0.46      0.46     10000\n",
      "weighted avg       0.46      0.46      0.46     10000\n",
      "\n",
      "Время выполнения 1986.0369980335236\n"
     ]
    }
   ],
   "source": [
    "# Реализация метода опорных векторов через SVC\n",
    "from sklearn import svm\n",
    "\n",
    "start_time = time.time()\n",
    "nb = svm.SVC().fit(X_train, y_train)\n",
    "y_pred = nb.predict(X_test)\n",
    "print(metrics.classification_report(y_test, y_pred))\n",
    "print(\"Время выполнения\", (time.time()-start_time))"
   ]
  },
  {
   "cell_type": "code",
   "execution_count": 41,
   "id": "032520ef",
   "metadata": {},
   "outputs": [
    {
     "name": "stdout",
     "output_type": "stream",
     "text": [
      "              precision    recall  f1-score   support\n",
      "\n",
      "           0       0.18      0.11      0.13      1000\n",
      "           1       0.30      0.15      0.20      1000\n",
      "           2       0.33      0.15      0.21      1000\n",
      "           3       0.20      0.06      0.10      1000\n",
      "           4       0.20      0.17      0.18      1000\n",
      "           5       0.19      0.44      0.27      1000\n",
      "           6       0.20      0.08      0.12      1000\n",
      "           7       0.18      0.23      0.21      1000\n",
      "           8       0.25      0.40      0.31      1000\n",
      "           9       0.30      0.51      0.37      1000\n",
      "\n",
      "    accuracy                           0.23     10000\n",
      "   macro avg       0.23      0.23      0.21     10000\n",
      "weighted avg       0.23      0.23      0.21     10000\n",
      "\n",
      "Время выполнения 0.5103480815887451\n"
     ]
    }
   ],
   "source": [
    "#Реализация наивного байесовского метода\n",
    "from sklearn.naive_bayes import MultinomialNB\n",
    "\n",
    "start_time = time.time()\n",
    "nb = MultinomialNB().fit(X_train, y_train)\n",
    "y_pred = nb.predict(X_test)\n",
    "print(metrics.classification_report(y_test, y_pred))\n",
    "print(\"Время выполнения\", (time.time()-start_time))"
   ]
  },
  {
   "cell_type": "code",
   "execution_count": 42,
   "id": "71058e63",
   "metadata": {},
   "outputs": [
    {
     "name": "stdout",
     "output_type": "stream",
     "text": [
      "              precision    recall  f1-score   support\n",
      "\n",
      "           0       0.36      0.36      0.36      1000\n",
      "           1       0.84      0.07      0.13      1000\n",
      "           2       0.23      0.35      0.28      1000\n",
      "           3       0.33      0.06      0.10      1000\n",
      "           4       0.18      0.59      0.27      1000\n",
      "           5       0.58      0.13      0.21      1000\n",
      "           6       0.27      0.24      0.25      1000\n",
      "           7       0.65      0.14      0.23      1000\n",
      "           8       0.29      0.67      0.40      1000\n",
      "           9       0.65      0.14      0.23      1000\n",
      "\n",
      "    accuracy                           0.28     10000\n",
      "   macro avg       0.44      0.28      0.25     10000\n",
      "weighted avg       0.44      0.28      0.25     10000\n",
      "\n",
      "Время выполнения 16.50240683555603\n"
     ]
    }
   ],
   "source": [
    "# Реализация метода k-ближайших соседей\n",
    "import sklearn.neighbors as neigh\n",
    "\n",
    "start_time = time.time()\n",
    "kn = neigh.KNeighborsClassifier(n_neighbors=90, n_jobs=6).fit(X_train,y_train)\n",
    "y_pred = kn.predict(X_test)\n",
    "print(metrics.classification_report(y_test, y_pred))\n",
    "print(\"Время выполнения\", (time.time()-start_time))"
   ]
  },
  {
   "cell_type": "code",
   "execution_count": 43,
   "id": "0c8f06e5",
   "metadata": {},
   "outputs": [
    {
     "name": "stdout",
     "output_type": "stream",
     "text": [
      "              precision    recall  f1-score   support\n",
      "\n",
      "           0       0.33      0.37      0.35      1000\n",
      "           1       0.30      0.35      0.32      1000\n",
      "           2       0.22      0.14      0.17      1000\n",
      "           3       0.21      0.12      0.15      1000\n",
      "           4       0.23      0.16      0.19      1000\n",
      "           5       0.27      0.28      0.27      1000\n",
      "           6       0.23      0.25      0.24      1000\n",
      "           7       0.28      0.26      0.27      1000\n",
      "           8       0.31      0.39      0.35      1000\n",
      "           9       0.31      0.47      0.37      1000\n",
      "\n",
      "    accuracy                           0.28     10000\n",
      "   macro avg       0.27      0.28      0.27     10000\n",
      "weighted avg       0.27      0.28      0.27     10000\n",
      "\n",
      "Время выполнения 4111.561882972717\n"
     ]
    },
    {
     "name": "stderr",
     "output_type": "stream",
     "text": [
      "/Users/demg/miniforge3/envs/env_tf/lib/python3.9/site-packages/sklearn/svm/_base.py:1206: ConvergenceWarning: Liblinear failed to converge, increase the number of iterations.\n",
      "  warnings.warn(\n"
     ]
    }
   ],
   "source": [
    "# Реализация метода опорных векторов через LinearSVC\n",
    "import sklearn.svm as svm\n",
    "start_time = time.time()\n",
    "svect = svm.LinearSVC(max_iter=5000).fit(X_train, y_train)\n",
    "y_pred = svect.predict(X_test)\n",
    "print(metrics.classification_report(y_test, y_pred))\n",
    "print(\"Время выполнения\", (time.time()-start_time))"
   ]
  },
  {
   "cell_type": "code",
   "execution_count": 44,
   "id": "f2935b64",
   "metadata": {},
   "outputs": [
    {
     "name": "stdout",
     "output_type": "stream",
     "text": [
      "              precision    recall  f1-score   support\n",
      "\n",
      "           0       0.34      0.36      0.35      1000\n",
      "           1       0.33      0.35      0.34      1000\n",
      "           2       0.23      0.20      0.21      1000\n",
      "           3       0.20      0.16      0.18      1000\n",
      "           4       0.21      0.19      0.20      1000\n",
      "           5       0.27      0.27      0.27      1000\n",
      "           6       0.25      0.28      0.27      1000\n",
      "           7       0.28      0.28      0.28      1000\n",
      "           8       0.34      0.38      0.36      1000\n",
      "           9       0.36      0.41      0.39      1000\n",
      "\n",
      "    accuracy                           0.29     10000\n",
      "   macro avg       0.28      0.29      0.28     10000\n",
      "weighted avg       0.28      0.29      0.28     10000\n",
      "\n",
      "Время выполнения 557.3704369068146\n"
     ]
    }
   ],
   "source": [
    "# Реализация логистической регресси\n",
    "from sklearn.linear_model import LogisticRegression\n",
    "\n",
    "start_time = time.time()\n",
    "logr = LogisticRegression(max_iter=5000, n_jobs=6).fit(X_train, y_train)\n",
    "y_pred = logr.predict(X_test)\n",
    "print(metrics.classification_report(y_test, y_pred))\n",
    "print(\"Время выполнения\", (time.time()-start_time))"
   ]
  },
  {
   "cell_type": "code",
   "execution_count": 40,
   "id": "a50a864a",
   "metadata": {},
   "outputs": [
    {
     "name": "stdout",
     "output_type": "stream",
     "text": [
      "              precision    recall  f1-score   support\n",
      "\n",
      "           0       0.52      0.48      0.50      1000\n",
      "           1       0.50      0.50      0.50      1000\n",
      "           2       0.40      0.34      0.37      1000\n",
      "           3       0.35      0.25      0.29      1000\n",
      "           4       0.38      0.39      0.39      1000\n",
      "           5       0.42      0.37      0.40      1000\n",
      "           6       0.43      0.53      0.47      1000\n",
      "           7       0.47      0.45      0.46      1000\n",
      "           8       0.50      0.57      0.53      1000\n",
      "           9       0.45      0.55      0.49      1000\n",
      "\n",
      "    accuracy                           0.44     10000\n",
      "   macro avg       0.44      0.44      0.44     10000\n",
      "weighted avg       0.44      0.44      0.44     10000\n",
      "\n",
      "Время выполнения 6296.492598056793\n"
     ]
    }
   ],
   "source": [
    "# Реализация метода случайного леса RandomForest\n",
    "from sklearn.ensemble import RandomForestClassifier\n",
    "from sklearn.model_selection import GridSearchCV\n",
    "\n",
    "start_time = time.time()\n",
    "max_depth = [1,5,10,50]\n",
    "n_estimators = [5,10,100,500]\n",
    "grid_params ={'max_depth':max_depth,'n_estimators':n_estimators}\n",
    "rf = GridSearchCV(RandomForestClassifier(class_weight = 'balanced'), grid_params, scoring = 'accuracy', cv=10,n_jobs=6, return_train_score=True)\n",
    "rf.fit(X_train, y_train)\n",
    "y_pred = rf.predict(X_test)\n",
    "print(metrics.classification_report(y_test, y_pred))\n",
    "print(\"Время выполнения\", (time.time()-start_time))"
   ]
  },
  {
   "cell_type": "code",
   "execution_count": 43,
   "id": "b740fbbb",
   "metadata": {},
   "outputs": [
    {
     "name": "stdout",
     "output_type": "stream",
     "text": [
      "              precision    recall  f1-score   support\n",
      "\n",
      "           0       0.33      0.38      0.35      1000\n",
      "           1       0.36      0.28      0.32      1000\n",
      "           2       0.00      0.00      0.00      1000\n",
      "           3       0.29      0.01      0.02      1000\n",
      "           4       0.17      0.38      0.23      1000\n",
      "           5       0.46      0.05      0.09      1000\n",
      "           6       0.19      0.43      0.27      1000\n",
      "           7       0.46      0.09      0.15      1000\n",
      "           8       0.52      0.03      0.05      1000\n",
      "           9       0.22      0.71      0.34      1000\n",
      "\n",
      "    accuracy                           0.24     10000\n",
      "   macro avg       0.30      0.24      0.18     10000\n",
      "weighted avg       0.30      0.24      0.18     10000\n",
      "\n",
      "Время выполнения 1004.7452211380005\n"
     ]
    },
    {
     "name": "stderr",
     "output_type": "stream",
     "text": [
      "/Users/demg/miniforge3/envs/env_tf/lib/python3.9/site-packages/sklearn/metrics/_classification.py:1318: UndefinedMetricWarning: Precision and F-score are ill-defined and being set to 0.0 in labels with no predicted samples. Use `zero_division` parameter to control this behavior.\n",
      "  _warn_prf(average, modifier, msg_start, len(result))\n",
      "/Users/demg/miniforge3/envs/env_tf/lib/python3.9/site-packages/sklearn/metrics/_classification.py:1318: UndefinedMetricWarning: Precision and F-score are ill-defined and being set to 0.0 in labels with no predicted samples. Use `zero_division` parameter to control this behavior.\n",
      "  _warn_prf(average, modifier, msg_start, len(result))\n",
      "/Users/demg/miniforge3/envs/env_tf/lib/python3.9/site-packages/sklearn/metrics/_classification.py:1318: UndefinedMetricWarning: Precision and F-score are ill-defined and being set to 0.0 in labels with no predicted samples. Use `zero_division` parameter to control this behavior.\n",
      "  _warn_prf(average, modifier, msg_start, len(result))\n"
     ]
    }
   ],
   "source": [
    "# Реализация линейного классификатора с SGD-обучением \n",
    "import math\n",
    "from sklearn.linear_model import SGDClassifier\n",
    "from sklearn.model_selection import GridSearchCV\n",
    "\n",
    "start_time = time.time()\n",
    "alpha = [10**x for x in range(-4,4)]\n",
    "penalty = [\"l1\",\"l2\"]\n",
    "grid_params ={'alpha':alpha,'penalty':penalty}\n",
    "alpha_log = [math.log(x,10) for x in grid_params[\"alpha\"]]\n",
    "sgd = GridSearchCV(SGDClassifier(class_weight= 'balanced'), grid_params, scoring = 'accuracy', cv=10,n_jobs=6, return_train_score=True)\n",
    "sgd.fit(X_train, y_train)\n",
    "y_pred = sgd.predict(X_test)\n",
    "print(metrics.classification_report(y_test, y_pred))\n",
    "print(\"Время выполнения\", (time.time()-start_time))"
   ]
  },
  {
   "cell_type": "markdown",
   "id": "c4498f2f",
   "metadata": {},
   "source": [
    "## Реализация в keras"
   ]
  },
  {
   "cell_type": "markdown",
   "id": "f1a1c412",
   "metadata": {},
   "source": [
    "Реализация классификатора с использованием алгоритмов глубокого обучения ANN и CNN"
   ]
  },
  {
   "cell_type": "code",
   "execution_count": 40,
   "id": "b194544e",
   "metadata": {},
   "outputs": [],
   "source": [
    "from keras.utils.vis_utils import plot_model\n",
    "import visualkeras\n",
    "import pandas as pd\n",
    "import numpy as np"
   ]
  },
  {
   "cell_type": "markdown",
   "id": "67521803",
   "metadata": {},
   "source": [
    "#### Строим простую ANN (artificial neural network)"
   ]
  },
  {
   "cell_type": "code",
   "execution_count": 41,
   "id": "23e1c445",
   "metadata": {},
   "outputs": [
    {
     "name": "stdout",
     "output_type": "stream",
     "text": [
      "Metal device set to: Apple M1\n"
     ]
    },
    {
     "name": "stderr",
     "output_type": "stream",
     "text": [
      "2022-04-24 18:10:28.432235: I tensorflow/core/common_runtime/pluggable_device/pluggable_device_factory.cc:305] Could not identify NUMA node of platform GPU ID 0, defaulting to 0. Your kernel may not have been built with NUMA support.\n",
      "2022-04-24 18:10:28.432447: I tensorflow/core/common_runtime/pluggable_device/pluggable_device_factory.cc:271] Created TensorFlow device (/job:localhost/replica:0/task:0/device:GPU:0 with 0 MB memory) -> physical PluggableDevice (device: 0, name: METAL, pci bus id: <undefined>)\n"
     ]
    }
   ],
   "source": [
    "ann = models.Sequential([\n",
    "        layers.Flatten(input_shape=(32,32,3)),\n",
    "        layers.Dense(3000, activation='relu'),\n",
    "        layers.Dense(1000, activation='relu'),\n",
    "        layers.Dense(10, activation='softmax')    \n",
    "    ])"
   ]
  },
  {
   "cell_type": "code",
   "execution_count": 42,
   "id": "f76b992f",
   "metadata": {},
   "outputs": [
    {
     "data": {
      "image/png": "[encoded data removed]",
      "text/plain": [
       "<PIL.Image.Image image mode=RGBA size=784x63 at 0x17A777BE0>"
      ]
     },
     "execution_count": 42,
     "metadata": {},
     "output_type": "execute_result"
    }
   ],
   "source": [
    "visualkeras.layered_view(ann, legend=True, to_file='./img/ann.png')"
   ]
  },
  {
   "cell_type": "code",
   "execution_count": 43,
   "id": "287f7983",
   "metadata": {
    "scrolled": true
   },
   "outputs": [
    {
     "name": "stdout",
     "output_type": "stream",
     "text": [
      "Model: \"sequential\"\n",
      "_________________________________________________________________\n",
      " Layer (type)                Output Shape              Param #   \n",
      "=================================================================\n",
      " flatten (Flatten)           (None, 3072)              0         \n",
      "                                                                 \n",
      " dense (Dense)               (None, 3000)              9219000   \n",
      "                                                                 \n",
      " dense_1 (Dense)             (None, 1000)              3001000   \n",
      "                                                                 \n",
      " dense_2 (Dense)             (None, 10)                10010     \n",
      "                                                                 \n",
      "=================================================================\n",
      "Total params: 12,230,010\n",
      "Trainable params: 12,230,010\n",
      "Non-trainable params: 0\n",
      "_________________________________________________________________\n"
     ]
    }
   ],
   "source": [
    "ann.summary()"
   ]
  },
  {
   "cell_type": "code",
   "execution_count": 44,
   "id": "52c8d903",
   "metadata": {},
   "outputs": [],
   "source": [
    "ann.compile(optimizer='SGD',\n",
    "              loss='sparse_categorical_crossentropy',\n",
    "              metrics=['accuracy'])"
   ]
  },
  {
   "cell_type": "code",
   "execution_count": 45,
   "id": "5609abc0",
   "metadata": {},
   "outputs": [
    {
     "name": "stdout",
     "output_type": "stream",
     "text": [
      "Epoch 1/100\n"
     ]
    },
    {
     "name": "stderr",
     "output_type": "stream",
     "text": [
      "2022-04-24 18:10:31.052987: W tensorflow/core/platform/profile_utils/cpu_utils.cc:128] Failed to get CPU frequency: 0 Hz\n",
      "2022-04-24 18:10:31.201348: I tensorflow/core/grappler/optimizers/custom_graph_optimizer_registry.cc:113] Plugin optimizer for device_type GPU is enabled.\n"
     ]
    },
    {
     "name": "stdout",
     "output_type": "stream",
     "text": [
      "1563/1563 [==============================] - 18s 11ms/step - loss: 1.8114 - accuracy: 0.3556\n",
      "Epoch 2/100\n",
      "1563/1563 [==============================] - 18s 11ms/step - loss: 1.6244 - accuracy: 0.4275\n",
      "Epoch 3/100\n",
      "1563/1563 [==============================] - 18s 11ms/step - loss: 1.5406 - accuracy: 0.4584\n",
      "Epoch 4/100\n",
      "1563/1563 [==============================] - 18s 11ms/step - loss: 1.4841 - accuracy: 0.4784\n",
      "Epoch 5/100\n",
      "1563/1563 [==============================] - 17s 11ms/step - loss: 1.4310 - accuracy: 0.4977\n",
      "Epoch 6/100\n",
      "1563/1563 [==============================] - 18s 11ms/step - loss: 1.3929 - accuracy: 0.5085\n",
      "Epoch 7/100\n",
      "1563/1563 [==============================] - 18s 11ms/step - loss: 1.3532 - accuracy: 0.5244\n",
      "Epoch 8/100\n",
      "1563/1563 [==============================] - 18s 11ms/step - loss: 1.3171 - accuracy: 0.5362\n",
      "Epoch 9/100\n",
      "1563/1563 [==============================] - 18s 11ms/step - loss: 1.2849 - accuracy: 0.5508\n",
      "Epoch 10/100\n",
      "1563/1563 [==============================] - 18s 11ms/step - loss: 1.2565 - accuracy: 0.5582\n",
      "Epoch 11/100\n",
      "1563/1563 [==============================] - 18s 11ms/step - loss: 1.2235 - accuracy: 0.5722\n",
      "Epoch 12/100\n",
      "1563/1563 [==============================] - 17s 11ms/step - loss: 1.1961 - accuracy: 0.5818\n",
      "Epoch 13/100\n",
      "1563/1563 [==============================] - 17s 11ms/step - loss: 1.1684 - accuracy: 0.5904\n",
      "Epoch 14/100\n",
      "1563/1563 [==============================] - 18s 11ms/step - loss: 1.1423 - accuracy: 0.6015\n",
      "Epoch 15/100\n",
      "1563/1563 [==============================] - 18s 11ms/step - loss: 1.1130 - accuracy: 0.6105\n",
      "Epoch 16/100\n",
      "1563/1563 [==============================] - 18s 11ms/step - loss: 1.0900 - accuracy: 0.6204\n",
      "Epoch 17/100\n",
      "1563/1563 [==============================] - 18s 11ms/step - loss: 1.0597 - accuracy: 0.6319\n",
      "Epoch 18/100\n",
      "1563/1563 [==============================] - 18s 11ms/step - loss: 1.0350 - accuracy: 0.6413\n",
      "Epoch 19/100\n",
      "1563/1563 [==============================] - 18s 11ms/step - loss: 1.0106 - accuracy: 0.6493\n",
      "Epoch 20/100\n",
      "1563/1563 [==============================] - 18s 11ms/step - loss: 0.9844 - accuracy: 0.6586\n",
      "Epoch 21/100\n",
      "1563/1563 [==============================] - 18s 11ms/step - loss: 0.9582 - accuracy: 0.6682\n",
      "Epoch 22/100\n",
      "1563/1563 [==============================] - 18s 11ms/step - loss: 0.9347 - accuracy: 0.6789\n",
      "Epoch 23/100\n",
      "1563/1563 [==============================] - 17s 11ms/step - loss: 0.9080 - accuracy: 0.6864\n",
      "Epoch 24/100\n",
      "1563/1563 [==============================] - 18s 11ms/step - loss: 0.8837 - accuracy: 0.6948\n",
      "Epoch 25/100\n",
      "1563/1563 [==============================] - 18s 11ms/step - loss: 0.8551 - accuracy: 0.7071\n",
      "Epoch 26/100\n",
      "1563/1563 [==============================] - 18s 11ms/step - loss: 0.8325 - accuracy: 0.7127\n",
      "Epoch 27/100\n",
      "1563/1563 [==============================] - 18s 11ms/step - loss: 0.8043 - accuracy: 0.7235\n",
      "Epoch 28/100\n",
      "1563/1563 [==============================] - 18s 11ms/step - loss: 0.7797 - accuracy: 0.7331\n",
      "Epoch 29/100\n",
      "1563/1563 [==============================] - 18s 11ms/step - loss: 0.7561 - accuracy: 0.7419\n",
      "Epoch 30/100\n",
      "1563/1563 [==============================] - 18s 11ms/step - loss: 0.7302 - accuracy: 0.7508\n",
      "Epoch 31/100\n",
      "1563/1563 [==============================] - 18s 11ms/step - loss: 0.7071 - accuracy: 0.7594\n",
      "Epoch 32/100\n",
      "1563/1563 [==============================] - 18s 11ms/step - loss: 0.6826 - accuracy: 0.7699\n",
      "Epoch 33/100\n",
      "1563/1563 [==============================] - 18s 11ms/step - loss: 0.6570 - accuracy: 0.7783\n",
      "Epoch 34/100\n",
      "1563/1563 [==============================] - 18s 11ms/step - loss: 0.6345 - accuracy: 0.7863\n",
      "Epoch 35/100\n",
      "1563/1563 [==============================] - 18s 11ms/step - loss: 0.6094 - accuracy: 0.7953\n",
      "Epoch 36/100\n",
      "1563/1563 [==============================] - 18s 11ms/step - loss: 0.5838 - accuracy: 0.8052\n",
      "Epoch 37/100\n",
      "1563/1563 [==============================] - 18s 11ms/step - loss: 0.5617 - accuracy: 0.8144\n",
      "Epoch 38/100\n",
      "1563/1563 [==============================] - 18s 11ms/step - loss: 0.5380 - accuracy: 0.8218\n",
      "Epoch 39/100\n",
      "1563/1563 [==============================] - 18s 11ms/step - loss: 0.5148 - accuracy: 0.8309\n",
      "Epoch 40/100\n",
      "1563/1563 [==============================] - 18s 11ms/step - loss: 0.4927 - accuracy: 0.8395\n",
      "Epoch 41/100\n",
      "1563/1563 [==============================] - 18s 11ms/step - loss: 0.4681 - accuracy: 0.8481\n",
      "Epoch 42/100\n",
      "1563/1563 [==============================] - 18s 11ms/step - loss: 0.4511 - accuracy: 0.8542\n",
      "Epoch 43/100\n",
      "1563/1563 [==============================] - 18s 11ms/step - loss: 0.4279 - accuracy: 0.8619\n",
      "Epoch 44/100\n",
      "1563/1563 [==============================] - 18s 12ms/step - loss: 0.4054 - accuracy: 0.8713\n",
      "Epoch 45/100\n",
      "1563/1563 [==============================] - 18s 11ms/step - loss: 0.3882 - accuracy: 0.8773\n",
      "Epoch 46/100\n",
      "1563/1563 [==============================] - 18s 11ms/step - loss: 0.3707 - accuracy: 0.8826\n",
      "Epoch 47/100\n",
      "1563/1563 [==============================] - 18s 11ms/step - loss: 0.3503 - accuracy: 0.8907\n",
      "Epoch 48/100\n",
      "1563/1563 [==============================] - 18s 11ms/step - loss: 0.3310 - accuracy: 0.8981\n",
      "Epoch 49/100\n",
      "1563/1563 [==============================] - 18s 11ms/step - loss: 0.3142 - accuracy: 0.9051\n",
      "Epoch 50/100\n",
      "1563/1563 [==============================] - 18s 11ms/step - loss: 0.2952 - accuracy: 0.9119\n",
      "Epoch 51/100\n",
      "1563/1563 [==============================] - 18s 11ms/step - loss: 0.2813 - accuracy: 0.9153\n",
      "Epoch 52/100\n",
      "1563/1563 [==============================] - 18s 11ms/step - loss: 0.2632 - accuracy: 0.9230\n",
      "Epoch 53/100\n",
      "1563/1563 [==============================] - 18s 12ms/step - loss: 0.2496 - accuracy: 0.9270\n",
      "Epoch 54/100\n",
      "1563/1563 [==============================] - 18s 11ms/step - loss: 0.2303 - accuracy: 0.9347\n",
      "Epoch 55/100\n",
      "1563/1563 [==============================] - 18s 11ms/step - loss: 0.2185 - accuracy: 0.9378\n",
      "Epoch 56/100\n",
      "1563/1563 [==============================] - 18s 11ms/step - loss: 0.2045 - accuracy: 0.9435\n",
      "Epoch 57/100\n",
      "1563/1563 [==============================] - 18s 11ms/step - loss: 0.1955 - accuracy: 0.9472\n",
      "Epoch 58/100\n",
      "1563/1563 [==============================] - 18s 11ms/step - loss: 0.1807 - accuracy: 0.9521\n",
      "Epoch 59/100\n",
      "1563/1563 [==============================] - 18s 11ms/step - loss: 0.1720 - accuracy: 0.9543\n",
      "Epoch 60/100\n",
      "1563/1563 [==============================] - 18s 11ms/step - loss: 0.1585 - accuracy: 0.9605\n",
      "Epoch 61/100\n",
      "1563/1563 [==============================] - 18s 11ms/step - loss: 0.1473 - accuracy: 0.9630\n",
      "Epoch 62/100\n",
      "1563/1563 [==============================] - 18s 11ms/step - loss: 0.1382 - accuracy: 0.9656\n",
      "Epoch 63/100\n",
      "1563/1563 [==============================] - 18s 11ms/step - loss: 0.1251 - accuracy: 0.9713\n",
      "Epoch 64/100\n",
      "1563/1563 [==============================] - 18s 11ms/step - loss: 0.1196 - accuracy: 0.9721\n",
      "Epoch 65/100\n",
      "1563/1563 [==============================] - 18s 11ms/step - loss: 0.1097 - accuracy: 0.9753\n",
      "Epoch 66/100\n",
      "1563/1563 [==============================] - 18s 11ms/step - loss: 0.1061 - accuracy: 0.9762\n",
      "Epoch 67/100\n",
      "1563/1563 [==============================] - 18s 11ms/step - loss: 0.0938 - accuracy: 0.9809\n",
      "Epoch 68/100\n",
      "1563/1563 [==============================] - 18s 11ms/step - loss: 0.0938 - accuracy: 0.9799\n",
      "Epoch 69/100\n",
      "1563/1563 [==============================] - 18s 11ms/step - loss: 0.0810 - accuracy: 0.9844\n",
      "Epoch 70/100\n",
      "1563/1563 [==============================] - 18s 11ms/step - loss: 0.0754 - accuracy: 0.9856\n",
      "Epoch 71/100\n",
      "1563/1563 [==============================] - 18s 11ms/step - loss: 0.0691 - accuracy: 0.9874\n",
      "Epoch 72/100\n",
      "1563/1563 [==============================] - 18s 11ms/step - loss: 0.0643 - accuracy: 0.9885\n",
      "Epoch 73/100\n",
      "1563/1563 [==============================] - 18s 11ms/step - loss: 0.0578 - accuracy: 0.9907\n",
      "Epoch 74/100\n",
      "1563/1563 [==============================] - 18s 11ms/step - loss: 0.0545 - accuracy: 0.9916\n",
      "Epoch 75/100\n",
      "1563/1563 [==============================] - 18s 11ms/step - loss: 0.0594 - accuracy: 0.9883\n",
      "Epoch 76/100\n",
      "1563/1563 [==============================] - 18s 11ms/step - loss: 0.0469 - accuracy: 0.9934\n",
      "Epoch 77/100\n",
      "1563/1563 [==============================] - 18s 11ms/step - loss: 0.0421 - accuracy: 0.9941\n",
      "Epoch 78/100\n"
     ]
    },
    {
     "name": "stdout",
     "output_type": "stream",
     "text": [
      "1563/1563 [==============================] - 18s 11ms/step - loss: 0.0409 - accuracy: 0.9939\n",
      "Epoch 79/100\n",
      "1563/1563 [==============================] - 18s 11ms/step - loss: 0.0379 - accuracy: 0.9948\n",
      "Epoch 80/100\n",
      "1563/1563 [==============================] - 18s 11ms/step - loss: 0.0342 - accuracy: 0.9958\n",
      "Epoch 81/100\n",
      "1563/1563 [==============================] - 17s 11ms/step - loss: 0.0313 - accuracy: 0.9965\n",
      "Epoch 82/100\n",
      "1563/1563 [==============================] - 18s 11ms/step - loss: 0.0294 - accuracy: 0.9968\n",
      "Epoch 83/100\n",
      "1563/1563 [==============================] - 18s 11ms/step - loss: 0.0275 - accuracy: 0.9971\n",
      "Epoch 84/100\n",
      "1563/1563 [==============================] - 18s 11ms/step - loss: 0.0259 - accuracy: 0.9975\n",
      "Epoch 85/100\n",
      "1563/1563 [==============================] - 18s 11ms/step - loss: 0.0239 - accuracy: 0.9977\n",
      "Epoch 86/100\n",
      "1563/1563 [==============================] - 18s 11ms/step - loss: 0.0215 - accuracy: 0.9983\n",
      "Epoch 87/100\n",
      "1563/1563 [==============================] - 18s 11ms/step - loss: 0.0223 - accuracy: 0.9979\n",
      "Epoch 88/100\n",
      "1563/1563 [==============================] - 18s 11ms/step - loss: 0.0202 - accuracy: 0.9983\n",
      "Epoch 89/100\n",
      "1563/1563 [==============================] - 18s 11ms/step - loss: 0.0182 - accuracy: 0.9987\n",
      "Epoch 90/100\n",
      "1563/1563 [==============================] - 18s 11ms/step - loss: 0.0182 - accuracy: 0.9987\n",
      "Epoch 91/100\n",
      "1563/1563 [==============================] - 18s 11ms/step - loss: 0.0161 - accuracy: 0.9990\n",
      "Epoch 92/100\n",
      "1563/1563 [==============================] - 18s 11ms/step - loss: 0.0153 - accuracy: 0.9992\n",
      "Epoch 93/100\n",
      "1563/1563 [==============================] - 18s 11ms/step - loss: 0.0146 - accuracy: 0.9991\n",
      "Epoch 94/100\n",
      "1563/1563 [==============================] - 18s 11ms/step - loss: 0.0142 - accuracy: 0.9991\n",
      "Epoch 95/100\n",
      "1563/1563 [==============================] - 18s 11ms/step - loss: 0.0127 - accuracy: 0.9996\n",
      "Epoch 96/100\n",
      "1563/1563 [==============================] - 18s 11ms/step - loss: 0.0127 - accuracy: 0.9994\n",
      "Epoch 97/100\n",
      "1563/1563 [==============================] - 18s 11ms/step - loss: 0.0122 - accuracy: 0.9994\n",
      "Epoch 98/100\n",
      "1563/1563 [==============================] - 18s 11ms/step - loss: 0.0116 - accuracy: 0.9993\n",
      "Epoch 99/100\n",
      "1563/1563 [==============================] - 18s 11ms/step - loss: 0.0122 - accuracy: 0.9994\n",
      "Epoch 100/100\n",
      "1563/1563 [==============================] - 18s 11ms/step - loss: 0.0108 - accuracy: 0.9995\n",
      "Время выполнения 1770.830556154251\n"
     ]
    }
   ],
   "source": [
    "start_time = time.time()\n",
    "ann.fit(X_trainRGB, y_train, epochs=100)\n",
    "print(\"Время выполнения\", (time.time()-start_time))"
   ]
  },
  {
   "cell_type": "code",
   "execution_count": 46,
   "id": "7f92cd01",
   "metadata": {},
   "outputs": [
    {
     "name": "stderr",
     "output_type": "stream",
     "text": [
      "2022-04-24 18:40:01.503330: I tensorflow/core/grappler/optimizers/custom_graph_optimizer_registry.cc:113] Plugin optimizer for device_type GPU is enabled.\n"
     ]
    },
    {
     "name": "stdout",
     "output_type": "stream",
     "text": [
      "              precision    recall  f1-score   support\n",
      "\n",
      "           0       0.66      0.68      0.67      1000\n",
      "           1       0.71      0.66      0.68      1000\n",
      "           2       0.51      0.46      0.48      1000\n",
      "           3       0.39      0.45      0.42      1000\n",
      "           4       0.54      0.51      0.53      1000\n",
      "           5       0.48      0.47      0.47      1000\n",
      "           6       0.67      0.60      0.64      1000\n",
      "           7       0.63      0.65      0.64      1000\n",
      "           8       0.67      0.72      0.69      1000\n",
      "           9       0.60      0.63      0.61      1000\n",
      "\n",
      "    accuracy                           0.58     10000\n",
      "   macro avg       0.59      0.58      0.58     10000\n",
      "weighted avg       0.59      0.58      0.58     10000\n",
      "\n"
     ]
    }
   ],
   "source": [
    "y_pred = ann.predict(X_testRGB)\n",
    "y_pred_classes = [np.argmax(element) for element in y_pred]\n",
    "\n",
    "print(classification_report(y_test, y_pred_classes))"
   ]
  },
  {
   "cell_type": "markdown",
   "id": "962b8b29",
   "metadata": {},
   "source": [
    "Как видим из отчета, точность классификации составляет 60%, что хорошо"
   ]
  },
  {
   "cell_type": "code",
   "execution_count": 47,
   "id": "dfeed3ee",
   "metadata": {},
   "outputs": [
    {
     "data": {
      "image/png": "[encoded data removed]",
      "text/plain": [
       "<Figure size 1080x720 with 2 Axes>"
      ]
     },
     "metadata": {
      "needs_background": "light"
     },
     "output_type": "display_data"
    }
   ],
   "source": [
    "cf_matrix = confusion_matrix(y_test, y_pred_classes)\n",
    "make_confusion_matrix(cf_matrix, figsize=(15,10), cbar=True)\n",
    "plt.savefig(\"./img/ann_matrix.png\",bbox_inches='tight')"
   ]
  },
  {
   "cell_type": "markdown",
   "id": "2c2047c0",
   "metadata": {},
   "source": [
    "#### Строим cвёрточную нейронную сеть (CNN)"
   ]
  },
  {
   "cell_type": "code",
   "execution_count": 48,
   "id": "7e9cde06",
   "metadata": {},
   "outputs": [],
   "source": [
    "cnn = models.Sequential([\n",
    "    layers.Conv2D(filters=32, kernel_size=(3, 3), activation='relu', input_shape=(32, 32, 3)),\n",
    "    layers.MaxPooling2D((2, 2)),\n",
    "    \n",
    "    layers.Conv2D(filters=64, kernel_size=(3, 3), activation='relu'),\n",
    "    layers.MaxPooling2D((2, 2)),\n",
    "    \n",
    "    layers.Flatten(),\n",
    "    layers.Dense(64, activation='relu'),\n",
    "    layers.Dense(10, activation='softmax')\n",
    "])"
   ]
  },
  {
   "cell_type": "code",
   "execution_count": 49,
   "id": "e686e8a9",
   "metadata": {},
   "outputs": [
    {
     "data": {
      "image/png": "[encoded data removed]",
      "text/plain": [
       "<PIL.Image.Image image mode=RGBA size=454x196 at 0x17BFD5EB0>"
      ]
     },
     "execution_count": 49,
     "metadata": {},
     "output_type": "execute_result"
    }
   ],
   "source": [
    "visualkeras.layered_view(cnn, legend=True, to_file='./img/cnn.png')"
   ]
  },
  {
   "cell_type": "code",
   "execution_count": 50,
   "id": "dc960936",
   "metadata": {},
   "outputs": [
    {
     "name": "stdout",
     "output_type": "stream",
     "text": [
      "Model: \"sequential_1\"\n",
      "_________________________________________________________________\n",
      " Layer (type)                Output Shape              Param #   \n",
      "=================================================================\n",
      " conv2d (Conv2D)             (None, 30, 30, 32)        896       \n",
      "                                                                 \n",
      " max_pooling2d (MaxPooling2D  (None, 15, 15, 32)       0         \n",
      " )                                                               \n",
      "                                                                 \n",
      " conv2d_1 (Conv2D)           (None, 13, 13, 64)        18496     \n",
      "                                                                 \n",
      " max_pooling2d_1 (MaxPooling  (None, 6, 6, 64)         0         \n",
      " 2D)                                                             \n",
      "                                                                 \n",
      " flatten_1 (Flatten)         (None, 2304)              0         \n",
      "                                                                 \n",
      " dense_3 (Dense)             (None, 64)                147520    \n",
      "                                                                 \n",
      " dense_4 (Dense)             (None, 10)                650       \n",
      "                                                                 \n",
      "=================================================================\n",
      "Total params: 167,562\n",
      "Trainable params: 167,562\n",
      "Non-trainable params: 0\n",
      "_________________________________________________________________\n"
     ]
    }
   ],
   "source": [
    "cnn.summary()"
   ]
  },
  {
   "cell_type": "code",
   "execution_count": 51,
   "id": "6ab4c0a8",
   "metadata": {},
   "outputs": [],
   "source": [
    "cnn.compile(optimizer='adam',\n",
    "              loss='sparse_categorical_crossentropy',\n",
    "              metrics=['accuracy'])"
   ]
  },
  {
   "cell_type": "code",
   "execution_count": 52,
   "id": "c7cee3b7",
   "metadata": {},
   "outputs": [
    {
     "name": "stdout",
     "output_type": "stream",
     "text": [
      "Epoch 1/12\n",
      "   4/1563 [..............................] - ETA: 26s - loss: 2.2927 - accuracy: 0.1719 "
     ]
    },
    {
     "name": "stderr",
     "output_type": "stream",
     "text": [
      "2022-04-24 18:40:05.624988: I tensorflow/core/grappler/optimizers/custom_graph_optimizer_registry.cc:113] Plugin optimizer for device_type GPU is enabled.\n"
     ]
    },
    {
     "name": "stdout",
     "output_type": "stream",
     "text": [
      "1563/1563 [==============================] - 17s 11ms/step - loss: 1.4382 - accuracy: 0.4830\n",
      "Epoch 2/12\n",
      "1563/1563 [==============================] - 16s 10ms/step - loss: 1.0867 - accuracy: 0.6211\n",
      "Epoch 3/12\n",
      "1563/1563 [==============================] - 16s 10ms/step - loss: 0.9559 - accuracy: 0.6669\n",
      "Epoch 4/12\n",
      "1563/1563 [==============================] - 16s 10ms/step - loss: 0.8743 - accuracy: 0.6964\n",
      "Epoch 5/12\n",
      "1563/1563 [==============================] - 16s 10ms/step - loss: 0.8066 - accuracy: 0.7206\n",
      "Epoch 6/12\n",
      "1563/1563 [==============================] - 16s 10ms/step - loss: 0.7533 - accuracy: 0.7395\n",
      "Epoch 7/12\n",
      "1563/1563 [==============================] - 16s 10ms/step - loss: 0.6931 - accuracy: 0.7569\n",
      "Epoch 8/12\n",
      "1563/1563 [==============================] - 16s 10ms/step - loss: 0.6519 - accuracy: 0.7725\n",
      "Epoch 9/12\n",
      "1563/1563 [==============================] - 16s 10ms/step - loss: 0.6049 - accuracy: 0.7893\n",
      "Epoch 10/12\n",
      "1563/1563 [==============================] - 16s 10ms/step - loss: 0.5596 - accuracy: 0.8055\n",
      "Epoch 11/12\n",
      "1563/1563 [==============================] - 16s 10ms/step - loss: 0.5227 - accuracy: 0.8153\n",
      "Epoch 12/12\n",
      "1563/1563 [==============================] - 16s 10ms/step - loss: 0.4842 - accuracy: 0.8295\n",
      "Время выполнения 194.0414342880249\n"
     ]
    }
   ],
   "source": [
    "start_time = time.time()\n",
    "cnn.fit(X_trainRGB, y_train, epochs=12)\n",
    "print(\"Время выполнения\", (time.time()-start_time))"
   ]
  },
  {
   "cell_type": "code",
   "execution_count": 53,
   "id": "12c019d1",
   "metadata": {},
   "outputs": [
    {
     "name": "stderr",
     "output_type": "stream",
     "text": [
      "2022-04-24 18:43:18.641982: I tensorflow/core/grappler/optimizers/custom_graph_optimizer_registry.cc:113] Plugin optimizer for device_type GPU is enabled.\n"
     ]
    },
    {
     "name": "stdout",
     "output_type": "stream",
     "text": [
      "              precision    recall  f1-score   support\n",
      "\n",
      "           0       0.74      0.69      0.72      1000\n",
      "           1       0.81      0.83      0.82      1000\n",
      "           2       0.59      0.57      0.58      1000\n",
      "           3       0.49      0.57      0.53      1000\n",
      "           4       0.65      0.64      0.64      1000\n",
      "           5       0.61      0.57      0.59      1000\n",
      "           6       0.84      0.68      0.75      1000\n",
      "           7       0.76      0.70      0.73      1000\n",
      "           8       0.75      0.87      0.81      1000\n",
      "           9       0.74      0.80      0.77      1000\n",
      "\n",
      "    accuracy                           0.69     10000\n",
      "   macro avg       0.70      0.69      0.69     10000\n",
      "weighted avg       0.70      0.69      0.69     10000\n",
      "\n"
     ]
    }
   ],
   "source": [
    "y_pred = cnn.predict(X_testRGB)\n",
    "y_pred_classes = [np.argmax(element) for element in y_pred]\n",
    "\n",
    "print(classification_report(y_test, y_pred_classes))"
   ]
  },
  {
   "cell_type": "code",
   "execution_count": 54,
   "id": "20f49c11",
   "metadata": {},
   "outputs": [
    {
     "data": {
      "image/png": "[encoded data removed]",
      "text/plain": [
       "<Figure size 1080x720 with 2 Axes>"
      ]
     },
     "metadata": {
      "needs_background": "light"
     },
     "output_type": "display_data"
    }
   ],
   "source": [
    "cf_matrix = confusion_matrix(y_test, y_pred_classes)\n",
    "make_confusion_matrix(cf_matrix, figsize=(15,10), cbar=True)\n",
    "plt.savefig(\"./img/cnn_matrix.png\",bbox_inches='tight')"
   ]
  },
  {
   "cell_type": "markdown",
   "id": "b198f244",
   "metadata": {},
   "source": [
    "## Смотрим на результаты"
   ]
  },
  {
   "cell_type": "code",
   "execution_count": 55,
   "id": "d537cf92",
   "metadata": {},
   "outputs": [],
   "source": [
    "classes = [\"airplane\",\"automobile\",\"bird\",\"cat\",\"deer\",\"dog\",\"frog\",\"horse\",\"ship\",\"truck\"]"
   ]
  },
  {
   "cell_type": "code",
   "execution_count": 56,
   "id": "6b2d0c9b",
   "metadata": {},
   "outputs": [],
   "source": [
    "def plot_sample(x_images, y_test, y_model_pred, index):\n",
    "    \n",
    "\n",
    "    plt.figure(figsize = (32,2))\n",
    "    plt.imshow(x_images[index])\n",
    "\n",
    "    plt.title(classes[y_test[index]],fontsize=14)\n",
    "    plt.xlabel(f\"Модель думает это {classes[y_model_pred[index]]}\",fontsize=14)"
   ]
  },
  {
   "cell_type": "code",
   "execution_count": 57,
   "id": "70318bbb",
   "metadata": {},
   "outputs": [
    {
     "data": {
      "text/plain": [
       "(10000,)"
      ]
     },
     "execution_count": 57,
     "metadata": {},
     "output_type": "execute_result"
    }
   ],
   "source": [
    "y_test.shape"
   ]
  },
  {
   "cell_type": "code",
   "execution_count": 58,
   "id": "3d677d49",
   "metadata": {},
   "outputs": [
    {
     "data": {
      "text/plain": [
       "(10000,)"
      ]
     },
     "execution_count": 58,
     "metadata": {},
     "output_type": "execute_result"
    }
   ],
   "source": [
    "y_pred_classes = np.array(y_pred_classes)\n",
    "y_pred_classes.shape"
   ]
  },
  {
   "cell_type": "markdown",
   "id": "660685d5",
   "metadata": {},
   "source": [
    "Индексы тех изображений, которые определились неправильно"
   ]
  },
  {
   "cell_type": "code",
   "execution_count": 59,
   "id": "f2e685dd",
   "metadata": {},
   "outputs": [
    {
     "data": {
      "text/plain": [
       "(3071,)"
      ]
     },
     "execution_count": 59,
     "metadata": {},
     "output_type": "execute_result"
    }
   ],
   "source": [
    "false_detection_indexes = np.where(y_pred_classes-y_test != 0)[0]\n",
    "false_detection_indexes.shape"
   ]
  },
  {
   "cell_type": "code",
   "execution_count": 60,
   "id": "22774a38",
   "metadata": {},
   "outputs": [
    {
     "data": {
      "image/png": "[encoded data removed]",
      "text/plain": [
       "<Figure size 2304x144 with 1 Axes>"
      ]
     },
     "metadata": {
      "needs_background": "light"
     },
     "output_type": "display_data"
    },
    {
     "data": {
      "image/png": "[encoded data removed]",
      "text/plain": [
       "<Figure size 2304x144 with 1 Axes>"
      ]
     },
     "metadata": {
      "needs_background": "light"
     },
     "output_type": "display_data"
    },
    {
     "data": {
      "image/png": "[encoded data removed]",
      "text/plain": [
       "<Figure size 2304x144 with 1 Axes>"
      ]
     },
     "metadata": {
      "needs_background": "light"
     },
     "output_type": "display_data"
    },
    {
     "data": {
      "image/png": "[encoded data removed]",
      "text/plain": [
       "<Figure size 2304x144 with 1 Axes>"
      ]
     },
     "metadata": {
      "needs_background": "light"
     },
     "output_type": "display_data"
    },
    {
     "data": {
      "image/png": "[encoded data removed]",
      "text/plain": [
       "<Figure size 2304x144 with 1 Axes>"
      ]
     },
     "metadata": {
      "needs_background": "light"
     },
     "output_type": "display_data"
    }
   ],
   "source": [
    "for index in false_detection_indexes[:5]:\n",
    "    plot_sample(X_testRGB, y_test, y_pred_classes, index)"
   ]
  },
  {
   "cell_type": "code",
   "execution_count": 61,
   "id": "28184a0a",
   "metadata": {},
   "outputs": [
    {
     "data": {
      "text/plain": [
       "(6929,)"
      ]
     },
     "execution_count": 61,
     "metadata": {},
     "output_type": "execute_result"
    }
   ],
   "source": [
    "true_detection_indexes = np.where(y_pred_classes-y_test == 0)[0]\n",
    "true_detection_indexes.shape"
   ]
  },
  {
   "cell_type": "code",
   "execution_count": 62,
   "id": "875abc14",
   "metadata": {},
   "outputs": [
    {
     "data": {
      "image/png": "[encoded data removed]",
      "text/plain": [
       "<Figure size 2304x144 with 1 Axes>"
      ]
     },
     "metadata": {
      "needs_background": "light"
     },
     "output_type": "display_data"
    },
    {
     "data": {
      "image/png": "[encoded data removed]",
      "text/plain": [
       "<Figure size 2304x144 with 1 Axes>"
      ]
     },
     "metadata": {
      "needs_background": "light"
     },
     "output_type": "display_data"
    },
    {
     "data": {
      "image/png": "[encoded data removed]",
      "text/plain": [
       "<Figure size 2304x144 with 1 Axes>"
      ]
     },
     "metadata": {
      "needs_background": "light"
     },
     "output_type": "display_data"
    },
    {
     "data": {
      "image/png": "[encoded data removed]",
      "text/plain": [
       "<Figure size 2304x144 with 1 Axes>"
      ]
     },
     "metadata": {
      "needs_background": "light"
     },
     "output_type": "display_data"
    },
    {
     "data": {
      "image/png": "[encoded data removed]",
      "text/plain": [
       "<Figure size 2304x144 with 1 Axes>"
      ]
     },
     "metadata": {
      "needs_background": "light"
     },
     "output_type": "display_data"
    }
   ],
   "source": [
    "for index in true_detection_indexes[:5]:\n",
    "    plot_sample(X_testRGB, y_test, y_pred_classes, index)"
   ]
  },
  {
   "cell_type": "code",
   "execution_count": null,
   "id": "7b4c90af",
   "metadata": {},
   "outputs": [],
   "source": []
  },
  {
   "cell_type": "code",
   "execution_count": null,
   "id": "cf759298",
   "metadata": {},
   "outputs": [],
   "source": []
  },
  {
   "cell_type": "code",
   "execution_count": null,
   "id": "7b428158",
   "metadata": {},
   "outputs": [],
   "source": []
  }
 ],
 "metadata": {
  "kernelspec": {
   "display_name": "Python 3 (ipykernel)",
   "language": "python",
   "name": "python3"
  },
  "language_info": {
   "codemirror_mode": {
    "name": "ipython",
    "version": 3
   },
   "file_extension": ".py",
   "mimetype": "text/x-python",
   "name": "python",
   "nbconvert_exporter": "python",
   "pygments_lexer": "ipython3",
   "version": "3.9.10"
  }
 },
 "nbformat": 4,
 "nbformat_minor": 5
}
